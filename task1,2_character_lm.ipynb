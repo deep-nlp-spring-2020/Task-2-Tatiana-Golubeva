{
 "cells": [
  {
   "cell_type": "markdown",
   "metadata": {},
   "source": [
    "# Assignment 2. Language modeling.\n",
    "\n",
    "This task is devoted to language modeling. Its goal is to write in PyTorch an RNN-based language model. Since word-based language modeling requires long training and is memory-consuming due to large vocabulary, we start with character-based language modeling. We are going to train the model to generate words as sequence of characters. During training we teach it to predict characters of the words in the training set.\n",
    "\n",
    "\n",
    "\n",
    "## Task 1. Character-based language modeling: data preparation (15 points)."
   ]
  },
  {
   "cell_type": "markdown",
   "metadata": {},
   "source": [
    "We train the language models on the materials of **Sigmorphon 2018 Shared Task**. First, download the Russian datasets."
   ]
  },
  {
   "cell_type": "code",
   "execution_count": 1,
   "metadata": {},
   "outputs": [
    {
     "name": "stdout",
     "output_type": "stream",
     "text": [
      "--2020-03-25 11:58:25--  https://raw.githubusercontent.com/sigmorphon/conll2018/master/task1/surprise/russian-train-high\n",
      "Распознаётся raw.githubusercontent.com (raw.githubusercontent.com)… 151.101.112.133\n",
      "Подключение к raw.githubusercontent.com (raw.githubusercontent.com)|151.101.112.133|:443... соединение установлено.\n",
      "HTTP-запрос отправлен. Ожидание ответа… 200 OK\n",
      "Длина: 533309 (521K) [text/plain]\n",
      "Сохранение в: «russian-train-high»\n",
      "\n",
      "russian-train-high  100%[===================>] 520,81K   350KB/s    за 1,5s    \n",
      "\n",
      "2020-03-25 11:58:27 (350 KB/s) - «russian-train-high» сохранён [533309/533309]\n",
      "\n",
      "--2020-03-25 11:58:27--  https://raw.githubusercontent.com/sigmorphon/conll2018/master/task1/surprise/russian-dev\n",
      "Распознаётся raw.githubusercontent.com (raw.githubusercontent.com)… 151.101.112.133\n",
      "Подключение к raw.githubusercontent.com (raw.githubusercontent.com)|151.101.112.133|:443... соединение установлено.\n",
      "HTTP-запрос отправлен. Ожидание ответа… 200 OK\n",
      "Длина: 53671 (52K) [text/plain]\n",
      "Сохранение в: «russian-dev»\n",
      "\n",
      "russian-dev         100%[===================>]  52,41K  --.-KB/s    за 0,09s   \n",
      "\n",
      "2020-03-25 11:58:28 (562 KB/s) - «russian-dev» сохранён [53671/53671]\n",
      "\n",
      "--2020-03-25 11:58:28--  https://raw.githubusercontent.com/sigmorphon/conll2018/master/task1/surprise/russian-test\n",
      "Распознаётся raw.githubusercontent.com (raw.githubusercontent.com)… 151.101.112.133\n",
      "Подключение к raw.githubusercontent.com (raw.githubusercontent.com)|151.101.112.133|:443... соединение установлено.\n",
      "HTTP-запрос отправлен. Ожидание ответа… 200 OK\n",
      "Длина: 53514 (52K) [text/plain]\n",
      "Сохранение в: «russian-test»\n",
      "\n",
      "russian-test        100%[===================>]  52,26K  --.-KB/s    за 0,1s    \n",
      "\n",
      "2020-03-25 11:58:29 (527 KB/s) - «russian-test» сохранён [53514/53514]\n",
      "\n"
     ]
    }
   ],
   "source": [
    "!wget https://raw.githubusercontent.com/sigmorphon/conll2018/master/task1/surprise/russian-train-high\n",
    "!wget https://raw.githubusercontent.com/sigmorphon/conll2018/master/task1/surprise/russian-dev\n",
    "!wget https://raw.githubusercontent.com/sigmorphon/conll2018/master/task1/surprise/russian-test"
   ]
  },
  {
   "cell_type": "markdown",
   "metadata": {},
   "source": [
    "**1.1 (1 points)**\n",
    "All the files contain tab-separated triples ```<lemma>-<form>-<tags>```, where ```<form>``` may contain spaces (*будете соответствовать*). Write a function that loads a list of all word forms, that do not contain spaces.  "
   ]
  },
  {
   "cell_type": "code",
   "execution_count": 1,
   "metadata": {},
   "outputs": [],
   "source": [
    "def read_infile(infile):\n",
    "    \"\"\"\n",
    "    == MY CODE HERE ==\n",
    "    \"\"\"\n",
    "    words = []\n",
    "    with open(infile, encoding='utf-8') as f:\n",
    "        lines = f.readlines()\n",
    "        for line in lines:\n",
    "            splited_line = line.split()\n",
    "            if len(splited_line )==3:\n",
    "                words.append(splited_line[1].lower())\n",
    "    return words"
   ]
  },
  {
   "cell_type": "code",
   "execution_count": 2,
   "metadata": {},
   "outputs": [
    {
     "name": "stdout",
     "output_type": "stream",
     "text": [
      "9213 917 922\n",
      "валлонскому незаконченным истрёпывав личного серьгам необоснованным тюти заросла идеальна гулкой\n"
     ]
    }
   ],
   "source": [
    "train_words = read_infile(\"russian-train-high\")\n",
    "dev_words = read_infile(\"russian-dev\")\n",
    "test_words = read_infile(\"russian-test\")\n",
    "print(len(train_words), len(dev_words), len(test_words))\n",
    "print(*train_words[:10])"
   ]
  },
  {
   "cell_type": "markdown",
   "metadata": {},
   "source": [
    "**1.2 (2 points)** Write a **Vocabulary** class that allows to transform symbols into their indexes. The class should have the method ```__call__``` that applies this transformation to sequences of symbols and batches of sequences as well. You can also use [SimpleVocabulary](https://github.com/deepmipt/DeepPavlov/blob/c10b079b972493220c82a643d47d718d5358c7f4/deeppavlov/core/data/simple_vocab.py#L31) from DeepPavlov. Fit an instance of this class on the training data."
   ]
  },
  {
   "cell_type": "code",
   "execution_count": 3,
   "metadata": {},
   "outputs": [
    {
     "name": "stderr",
     "output_type": "stream",
     "text": [
      "2020-03-31 12:27:55.875 WARNING in 'deeppavlov.core.models.serializable'['serializable'] at line 49: No load path is set for SimpleVocabulary in 'infer' mode. Using save path instead\n"
     ]
    },
    {
     "name": "stdout",
     "output_type": "stream",
     "text": [
      "37\n"
     ]
    }
   ],
   "source": [
    "from deeppavlov.core.data.simple_vocab import SimpleVocabulary\n",
    "\"\"\"\n",
    "== MY CODE HERE ==\n",
    "\"\"\"\n",
    "vocab = SimpleVocabulary(special_tokens=('PAD', 'BEGIN', 'END'), \n",
    "                         unk_token='UNK', save_path='./tmp')\n",
    "\n",
    "vocab.fit([list(x) for x in train_words])\n",
    "print(len(vocab))"
   ]
  },
  {
   "cell_type": "markdown",
   "metadata": {},
   "source": [
    "**1.3 (2 points)** Write a **Dataset** class, which should be inherited from ```torch.utils.data.Dataset```. It should take a list of words and the ```vocab``` as initialization arguments."
   ]
  },
  {
   "cell_type": "code",
   "execution_count": 4,
   "metadata": {},
   "outputs": [],
   "source": [
    "import torch\n",
    "from torch.utils.data import Dataset as TorchDataset\n",
    "  \n",
    "class Dataset(TorchDataset):\n",
    "    \"\"\"Custom data.Dataset compatible with data.DataLoader.\"\"\"\n",
    "\n",
    "    def __init__(self, data, vocab):\n",
    "        self.data = data\n",
    "        self.vocab = vocab\n",
    "\n",
    "    def __getitem__(self, index):\n",
    "        \"\"\"\n",
    "        Returns one tensor pair (source and target). The source tensor corresponds to the input word,\n",
    "        with \"BEGIN\" and \"END\" symbols attached. The target tensor should contain the answers\n",
    "        for the language model that obtain these word as input.\n",
    "        \"\"\"\n",
    "        word = self.data[index]\n",
    "        batch = self.vocab.__call__(['BEGIN'] + list(word) + ['END'])\n",
    "        return (torch.LongTensor(batch[:-1]), torch.LongTensor(batch[1:]))\n",
    "\n",
    "    def __len__(self):\n",
    "        return len(self.data)"
   ]
  },
  {
   "cell_type": "code",
   "execution_count": 5,
   "metadata": {},
   "outputs": [
    {
     "name": "stdout",
     "output_type": "stream",
     "text": [
      "device:  cuda\n"
     ]
    }
   ],
   "source": [
    "if torch.cuda.is_available():\n",
    "    device = 'cuda'\n",
    "    torch.cuda.set_device(1)\n",
    "else:\n",
    "    device = 'cpu'\n",
    "\n",
    "\n",
    "print(\"device: \", device)"
   ]
  },
  {
   "cell_type": "code",
   "execution_count": 6,
   "metadata": {},
   "outputs": [],
   "source": [
    "train_dataset = Dataset(train_words, vocab)\n",
    "dev_dataset = Dataset(dev_words, vocab)\n",
    "test_dataset = Dataset(test_words, vocab)"
   ]
  },
  {
   "cell_type": "markdown",
   "metadata": {},
   "source": [
    "**1.4 (3 points)** Use a standard ```torch.utils.data.DataLoader``` to obtain an iterable over batches. Print the shape of first 10 input batches with ```batch_size=1```."
   ]
  },
  {
   "cell_type": "code",
   "execution_count": 7,
   "metadata": {},
   "outputs": [],
   "source": [
    "from torch.utils.data import DataLoader\n",
    "\n",
    "\"\"\"\n",
    "== MY CODE HERE ==\n",
    "\"\"\"\n",
    "\n",
    "\n",
    "train_loader = DataLoader(train_dataset, batch_size=1)\n",
    "dev_loader = DataLoader(dev_dataset, batch_size=1)\n",
    "test_loader = DataLoader(test_dataset, batch_size=1)\n"
   ]
  },
  {
   "cell_type": "code",
   "execution_count": 8,
   "metadata": {},
   "outputs": [
    {
     "name": "stdout",
     "output_type": "stream",
     "text": [
      "torch.Size([1, 12]) torch.Size([1, 12])\n",
      "torch.Size([1, 14]) torch.Size([1, 14])\n",
      "torch.Size([1, 11]) torch.Size([1, 11])\n",
      "torch.Size([1, 8]) torch.Size([1, 8])\n",
      "torch.Size([1, 8]) torch.Size([1, 8])\n",
      "torch.Size([1, 15]) torch.Size([1, 15])\n",
      "torch.Size([1, 5]) torch.Size([1, 5])\n",
      "torch.Size([1, 8]) torch.Size([1, 8])\n",
      "torch.Size([1, 9]) torch.Size([1, 9])\n",
      "torch.Size([1, 7]) torch.Size([1, 7])\n"
     ]
    }
   ],
   "source": [
    "        \n",
    "for batch, i in zip(train_loader, range(10)):\n",
    "    print (batch[0].shape, batch[1].shape)"
   ]
  },
  {
   "cell_type": "markdown",
   "metadata": {},
   "source": [
    "**(1.5) 1 point** Explain, why this does not work with larger batch size."
   ]
  },
  {
   "cell_type": "raw",
   "metadata": {},
   "source": [
    "Because we cannot create batches of tensors with varying dimensions."
   ]
  },
  {
   "cell_type": "markdown",
   "metadata": {},
   "source": [
    "**(1.6) 5 points** Write a function **collate** that allows you to deal with batches of greater size. See [discussion](https://discuss.pytorch.org/t/dataloader-for-various-length-of-data/6418/8) for an example. Implement your function as a class ```__call__``` method to make it more flexible."
   ]
  },
  {
   "cell_type": "code",
   "execution_count": 9,
   "metadata": {},
   "outputs": [],
   "source": [
    "import numpy as np\n",
    "\n",
    "def pad_tensor(vec, length, dim, pad_symbol):\n",
    "    \"\"\"\n",
    "    Pads a vector ``vec`` up to length ``length`` along axis ``dim`` with pad symbol ``pad_symbol``.\n",
    "    \"\"\"\n",
    "    \"\"\"\n",
    "    == MY CODE HERE ==\n",
    "    \"\"\"\n",
    "    output_dims = list(vec.shape)\n",
    "    pad = np.zeros((len(output_dims)*2,)).astype(int).tolist()\n",
    "    k = len(output_dims)-dim-1\n",
    "    pad[2*k+1] = length-output_dims[dim]\n",
    "    return torch.nn.functional.pad(vec, pad, mode='constant', value=pad_symbol)\n",
    "\n",
    "class Padder:\n",
    "    \n",
    "    def __init__(self, dim=0, pad_symbol=0, length=None):\n",
    "        self.dim = dim\n",
    "        self.pad_symbol = pad_symbol\n",
    "        self.length = length\n",
    "    def __call__(self, batch):\n",
    "        \"\"\"\n",
    "        == MY CODE HERE ==\n",
    "        \"\"\"\n",
    "        if self.length is None:\n",
    "            length = sorted([term[0].shape[self.dim] for term in batch])[-1]\n",
    "        else:\n",
    "            length = self.length\n",
    "        source = torch.stack([pad_tensor(term[0], length, self.dim, self.pad_symbol) for term in batch])\n",
    "        targets = torch.stack([pad_tensor(term[1], length, self.dim, self.pad_symbol) for term in batch])\n",
    "        return [source, targets]"
   ]
  },
  {
   "cell_type": "markdown",
   "metadata": {},
   "source": [
    "**(1.7) 1 points** Again, use ```torch.utils.data.DataLoader``` to obtain an iterable over batches. Print the shape of first 10 input batches with the batch size you like."
   ]
  },
  {
   "cell_type": "code",
   "execution_count": 10,
   "metadata": {},
   "outputs": [],
   "source": [
    "from torch.utils.data import DataLoader\n",
    "\n",
    "\"\"\"\n",
    "== MY CODE HERE ==\n",
    "\"\"\"\n",
    "pad_symb=vocab._t2i['PAD']\n",
    "train_loader = DataLoader(train_dataset, batch_size=32, collate_fn=Padder(pad_symbol=pad_symb))\n",
    "dev_loader = DataLoader(dev_dataset, batch_size=32, collate_fn=Padder(pad_symbol=pad_symb))\n",
    "test_loader = DataLoader(test_dataset, batch_size=32, collate_fn=Padder(pad_symbol=pad_symb))"
   ]
  },
  {
   "cell_type": "code",
   "execution_count": 11,
   "metadata": {},
   "outputs": [
    {
     "name": "stdout",
     "output_type": "stream",
     "text": [
      "torch.Size([32, 16]) torch.Size([32, 16])\n",
      "torch.Size([32, 18]) torch.Size([32, 18])\n",
      "torch.Size([32, 16]) torch.Size([32, 16])\n",
      "torch.Size([32, 17]) torch.Size([32, 17])\n",
      "torch.Size([32, 19]) torch.Size([32, 19])\n",
      "torch.Size([32, 16]) torch.Size([32, 16])\n",
      "torch.Size([32, 17]) torch.Size([32, 17])\n",
      "torch.Size([32, 18]) torch.Size([32, 18])\n",
      "torch.Size([32, 16]) torch.Size([32, 16])\n",
      "torch.Size([32, 19]) torch.Size([32, 19])\n"
     ]
    }
   ],
   "source": [
    "        \n",
    "for batch, i in zip(train_loader, range(10)):\n",
    "    print (batch[0].shape, batch[1].shape)"
   ]
  },
  {
   "cell_type": "markdown",
   "metadata": {},
   "source": [
    "## Task 2. Character-based language modeling. (35 points)"
   ]
  },
  {
   "cell_type": "markdown",
   "metadata": {},
   "source": [
    "**2.1 (5 points)** Write a network that performs language modeling. It should include three layers:\n",
    "1. **Embedding** layer that transforms input symbols into vectors.\n",
    "2. An **RNN** layer that outputs a sequence of hidden states (you may use https://pytorch.org/docs/stable/nn.html#gru).\n",
    "3. A **Linear** layer with ``softmax`` activation that produces the output distribution for each symbol."
   ]
  },
  {
   "cell_type": "code",
   "execution_count": 12,
   "metadata": {},
   "outputs": [],
   "source": [
    "import torch.nn as nn\n",
    "\n",
    "class RNNLM(nn.Module):\n",
    "\n",
    "    def __init__(self, vocab_size, embeddings_dim, hidden_size, batch_size, device):\n",
    "        super(RNNLM, self).__init__()\n",
    "        \"\"\"\n",
    "        == MY CODE HERE ==\n",
    "        \"\"\"\n",
    "        self.vocab_size = vocab_size\n",
    "        self.embeddings_dim = embeddings_dim\n",
    "        self.hidden_size = hidden_size\n",
    "        self.batch_size = batch_size\n",
    "        self.device = device\n",
    "        self.embedding = nn.Embedding(num_embeddings=self.vocab_size, embedding_dim=self.embeddings_dim)\n",
    "        self.gru = nn.GRU(input_size=self.embeddings_dim, hidden_size=self.hidden_size, batch_first=True)\n",
    "        self.linear = nn.Linear(in_features=self.hidden_size, out_features=self.vocab_size)\n",
    "        self.softmax = nn.LogSoftmax(dim=2)#Softmax doesn't work directly with NLLLoss\n",
    "        \n",
    "            \n",
    "        \n",
    "    def forward(self, inputs, hidden=None):\n",
    "        \"\"\"\n",
    "        == MY CODE HERE ==\n",
    "        \"\"\"\n",
    "        if hidden is None:\n",
    "            hidden = self.init_hidden(inputs.shape)\n",
    "        outputs = self.embedding(inputs)\n",
    "        outputs, hidden = self.gru(outputs, hidden)\n",
    "        outputs = self.linear(outputs)\n",
    "        outputs = self.softmax(outputs)\n",
    "        return outputs, hidden\n",
    "\n",
    "    def init_hidden(self, inputs_shape):\n",
    "        return torch.zeros(1, inputs_shape[0], self.hidden_size, device = self.device)\n",
    "\n",
    "\n"
   ]
  },
  {
   "cell_type": "markdown",
   "metadata": {},
   "source": [
    "**2.2 (1 points)** Write a function ``validate_on_batch`` that takes as input a model, a batch of inputs and a batch of outputs, and the loss criterion, and outputs the loss tensor for the whole batch. This loss should not be normalized."
   ]
  },
  {
   "cell_type": "code",
   "execution_count": 13,
   "metadata": {},
   "outputs": [],
   "source": [
    "def validate_on_batch(model, criterion, x, y):\n",
    "    \"\"\"\n",
    "    == MY CODE HERE ==\n",
    "    \"\"\"\n",
    "    x = x.to(device)\n",
    "    y = y.to(device)\n",
    "    predictions, _ = model(x)\n",
    "    return criterion(predictions.reshape(predictions.shape[0] * predictions.shape[1], -1), \n",
    "                     y.reshape(predictions.shape[1] * predictions.shape[0]))\n"
   ]
  },
  {
   "cell_type": "markdown",
   "metadata": {},
   "source": [
    "**2.3 (1 points)** Write a function ``train_on_batch`` that accepts all the arguments of ``validate_on_batch`` and also an optimizer, calculates loss and makes a single step of gradient optimization. This function should call ``validate_on_batch`` inside."
   ]
  },
  {
   "cell_type": "code",
   "execution_count": 14,
   "metadata": {},
   "outputs": [],
   "source": [
    "def train_on_batch(model, criterion, x, y, optimizer):\n",
    "    \"\"\"\n",
    "    == MY CODE HERE ==\n",
    "    \"\"\"\n",
    "    model.train()\n",
    "    optimizer.zero_grad()\n",
    "    loss = validate_on_batch(model, criterion, x, y)\n",
    "    loss.backward()\n",
    "    optimizer.step()\n",
    "    return np.mean(loss.item())"
   ]
  },
  {
   "cell_type": "markdown",
   "metadata": {},
   "source": [
    "**2.4 (3 points)** Write a training loop. You should define your ``RNNLM`` model, the criterion, the optimizer and the hyperparameters (number of epochs and batch size). Then train the model for a required number of epochs. On each epoch evaluate the average training loss and the average loss on the validation set. \n",
    "\n",
    "**2.5 (3 points)** Do not forget to average your loss over only non-padding symbols, otherwise it will be too optimistic."
   ]
  },
  {
   "cell_type": "code",
   "execution_count": 15,
   "metadata": {},
   "outputs": [
    {
     "data": {
      "text/plain": [
       "RNNLM(\n",
       "  (embedding): Embedding(37, 37)\n",
       "  (gru): GRU(37, 200, batch_first=True)\n",
       "  (linear): Linear(in_features=200, out_features=37, bias=True)\n",
       "  (softmax): LogSoftmax()\n",
       ")"
      ]
     },
     "execution_count": 15,
     "metadata": {},
     "output_type": "execute_result"
    }
   ],
   "source": [
    "batch_size = 32\n",
    "learning_rate = 0.001\n",
    "num_epochs = 10\n",
    "train_loss = []\n",
    "val_loss = []\n",
    "\n",
    "rnnlm = RNNLM(vocab_size=len(vocab), embeddings_dim=len(vocab), hidden_size=200, batch_size=batch_size, device=device)\n",
    "rnnlm.to(device)\n",
    "\n",
    "weights = torch.ones((len(vocab),)).to(device)\n",
    "weights[pad_symb]  = 0\n",
    "criterion = nn.NLLLoss(weight=weights, reduction='mean')\n",
    "optimizer = torch.optim.Adam(rnnlm.parameters(), lr=learning_rate)\n",
    "rnnlm.to(device)"
   ]
  },
  {
   "cell_type": "code",
   "execution_count": 16,
   "metadata": {
    "scrolled": true
   },
   "outputs": [
    {
     "name": "stdout",
     "output_type": "stream",
     "text": [
      "Epoch 0: train_loss = 2.541464270816909, val_loss = 2.25935435295105\n",
      "Epoch 1: train_loss = 2.212066263788276, val_loss = 2.136517286300659\n",
      "Epoch 2: train_loss = 2.1097913111249604, val_loss = 2.0814638137817383\n",
      "Epoch 3: train_loss = 2.0398490909073086, val_loss = 2.047314167022705\n",
      "Epoch 4: train_loss = 1.9840044130881627, val_loss = 2.0333330631256104\n",
      "Epoch 5: train_loss = 1.9351658353375063, val_loss = 2.0310568809509277\n",
      "Epoch 6: train_loss = 1.8899972086979284, val_loss = 2.033853530883789\n",
      "Epoch 7: train_loss = 1.847171113308933, val_loss = 2.0389351844787598\n",
      "Epoch 8: train_loss = 1.8061071671545506, val_loss = 2.0434634685516357\n",
      "Epoch 9: train_loss = 1.766682892623875, val_loss = 2.0463063716888428\n"
     ]
    }
   ],
   "source": [
    "for epoch in range(num_epochs):\n",
    "    iterations_train = 0\n",
    "    train_loss_iter = 0\n",
    "    val_loss_iter = 0\n",
    "    for ind, (x, y) in enumerate(train_loader):\n",
    "        train_loss_iter += train_on_batch(rnnlm, criterion, x, y, optimizer)\n",
    "        iterations_train += 1\n",
    "        torch.cuda.empty_cache()\n",
    "    for ind, (x, y) in enumerate(dev_loader):\n",
    "        rnnlm.eval()\n",
    "        val_loss_iter = validate_on_batch(rnnlm, criterion, x, y)\n",
    "        torch.cuda.empty_cache()\n",
    "    train_loss.append(train_loss_iter / iterations_train)\n",
    "    val_loss.append(val_loss_iter)\n",
    "    print(\"Epoch {}: train_loss = {}, val_loss = {}\".format(epoch, train_loss[-1], val_loss[-1]))\n",
    "        "
   ]
  },
  {
   "cell_type": "code",
   "execution_count": 17,
   "metadata": {},
   "outputs": [
    {
     "data": {
      "image/png": "[encoded data removed]",
      "text/plain": [
       "<Figure size 432x288 with 1 Axes>"
      ]
     },
     "metadata": {
      "needs_background": "light"
     },
     "output_type": "display_data"
    }
   ],
   "source": [
    "import matplotlib.pyplot as plt\n",
    "%matplotlib inline\n",
    "\n",
    "fig, ax = plt.subplots()\n",
    "ax.plot(np.arange(1,len(train_loss)+1), train_loss, label='train', color='black')\n",
    "ax.plot(np.arange(1,len(val_loss)+1), val_loss, label='val', color='red')\n",
    "\n",
    "ax.set(ylabel='loss', xlabel='epoch')\n",
    "ax.grid()\n",
    "plt.legend()\n",
    "plt.show()\n"
   ]
  },
  {
   "cell_type": "markdown",
   "metadata": {},
   "source": [
    "**2.6 (5 points)** Write a function **predict_on_batch** that outputs letter probabilities of all words in the batch."
   ]
  },
  {
   "cell_type": "code",
   "execution_count": 18,
   "metadata": {},
   "outputs": [],
   "source": [
    "\"\"\"\n",
    "== MY CODE HERE ==\n",
    "\"\"\"\n",
    "\n",
    "def predict_on_batch(model, batch, hidden=None, dim=-1):\n",
    "    model.eval()\n",
    "    batch = batch.to(device)\n",
    "    preds, hidden = model(batch, hidden)\n",
    "    softmax = nn.Softmax(dim=dim)\n",
    "    return (softmax(preds), hidden)\n"
   ]
  },
  {
   "cell_type": "markdown",
   "metadata": {},
   "source": [
    "**2.7 (1 points)** Calculate the letter probabilities for all words in the test dataset. Print them for 20 last words. Do not forget to disable shuffling in the ``DataLoader``."
   ]
  },
  {
   "cell_type": "code",
   "execution_count": 19,
   "metadata": {},
   "outputs": [],
   "source": [
    "\"\"\"\n",
    "== MY CODE HERE ==\n",
    "\"\"\"\n",
    "length = max(map(lambda x: x[0].shape[-1], test_dataset))\n",
    "test_loader = DataLoader(train_dataset, batch_size=32, shuffle = False, collate_fn=Padder(length=length, pad_symbol=vocab._t2i['END']))\n",
    "probs = None\n",
    "hidden = None\n",
    "\n",
    "for ind, (x, y) in enumerate(test_loader): \n",
    "    if ind == 0:\n",
    "        probs, hidden = predict_on_batch(rnnlm, x)\n",
    "    else:\n",
    "        hidden = hidden[:, :x.shape[0], :]\n",
    "        preds, hidden = predict_on_batch(rnnlm, x, hidden=hidden)\n",
    "        probs = torch.cat((probs, preds))"
   ]
  },
  {
   "cell_type": "code",
   "execution_count": 20,
   "metadata": {},
   "outputs": [
    {
     "name": "stdout",
     "output_type": "stream",
     "text": [
      "word:  пшеничной\n",
      "letter п : probability 0.03949384018778801\n",
      "letter ш : probability 0.000218803936149925\n",
      "letter е : probability 0.00202156906016171\n",
      "letter н : probability 0.0014598234556615353\n",
      "letter и : probability 0.0007287629996426404\n",
      "letter ч : probability 0.01207261998206377\n",
      "letter н : probability 0.0014139177510514855\n",
      "letter о : probability 0.0005339662311598659\n",
      "letter й : probability 0.011004971340298653\n",
      "word:  переживаниями\n",
      "letter п : probability 0.18422503769397736\n",
      "letter е : probability 8.462680852971971e-05\n",
      "letter р : probability 0.007271329872310162\n",
      "letter е : probability 0.00013792408572044224\n",
      "letter ж : probability 0.04084709286689758\n",
      "letter и : probability 0.0009356595110148191\n",
      "letter в : probability 0.003924857825040817\n",
      "letter а : probability 0.00033628291566856205\n",
      "letter н : probability 0.00036004060530103743\n",
      "letter и : probability 0.00017847590788733214\n",
      "letter я : probability 0.001621716539375484\n",
      "letter м : probability 0.00256390031427145\n",
      "letter и : probability 4.412476118886843e-05\n",
      "word:  наибольшим\n",
      "letter н : probability 0.0007356814458034933\n",
      "letter а : probability 0.02623857744038105\n",
      "letter и : probability 0.0003601578064262867\n",
      "letter б : probability 0.0038848265539854765\n",
      "letter о : probability 0.24396668374538422\n",
      "letter л : probability 0.26983582973480225\n",
      "letter ь : probability 0.06755246222019196\n",
      "letter ш : probability 0.0017339694313704967\n",
      "letter и : probability 0.0014486274449154735\n",
      "letter м : probability 0.0005817727651447058\n",
      "word:  правителями\n",
      "letter п : probability 0.08760774880647659\n",
      "letter р : probability 0.08043505996465683\n",
      "letter а : probability 0.00048466172302141786\n",
      "letter в : probability 0.003502920037135482\n",
      "letter и : probability 0.00022898954921402037\n",
      "letter т : probability 0.0034543005749583244\n",
      "letter е : probability 0.0014486868167296052\n",
      "letter л : probability 0.0356275700032711\n",
      "letter я : probability 0.00474556814879179\n",
      "letter м : probability 0.06870409101247787\n",
      "letter и : probability 9.929781663231552e-05\n",
      "word:  апеллируешь\n",
      "letter а : probability 0.0008573450613766909\n",
      "letter п : probability 0.055638354271650314\n",
      "letter е : probability 0.003925679717212915\n",
      "letter л : probability 0.002758788876235485\n",
      "letter л : probability 0.00017224157636519521\n",
      "letter и : probability 0.00032636799733154476\n",
      "letter р : probability 0.005392529536038637\n",
      "letter у : probability 6.551299156853929e-05\n",
      "letter е : probability 0.0011030473979189992\n",
      "letter ш : probability 0.012554630637168884\n",
      "letter ь : probability 0.008555259555578232\n",
      "word:  односложных\n",
      "letter о : probability 0.014382611028850079\n",
      "letter д : probability 0.004908370319753885\n",
      "letter н : probability 0.0012927672360092402\n",
      "letter о : probability 0.006727965082973242\n",
      "letter с : probability 0.02791241556406021\n",
      "letter л : probability 0.05421612784266472\n",
      "letter о : probability 0.023322679102420807\n",
      "letter ж : probability 0.01730157807469368\n",
      "letter н : probability 0.03459868207573891\n",
      "letter ы : probability 2.6121522751054727e-05\n",
      "letter х : probability 0.019447114318609238\n",
      "word:  колодками\n",
      "letter к : probability 0.0045217061415314674\n",
      "letter о : probability 0.6183409690856934\n",
      "letter л : probability 0.01551511138677597\n",
      "letter о : probability 0.07328204810619354\n",
      "letter д : probability 0.0009819073602557182\n",
      "letter к : probability 0.0008773138979449868\n",
      "letter а : probability 0.0020310848485678434\n",
      "letter м : probability 0.004364361520856619\n",
      "letter и : probability 0.0021689163986593485\n",
      "word:  вибрирует\n",
      "letter в : probability 0.0053943912498652935\n",
      "letter и : probability 0.0012037192936986685\n",
      "letter б : probability 0.130280539393425\n",
      "letter р : probability 0.0663284957408905\n",
      "letter и : probability 0.00017665268387645483\n",
      "letter р : probability 0.25198328495025635\n",
      "letter у : probability 0.008481555618345737\n",
      "letter е : probability 0.006463515106588602\n",
      "letter т : probability 0.029309730976819992\n",
      "word:  безразлично\n",
      "letter б : probability 0.05246239900588989\n",
      "letter е : probability 0.001971706049516797\n",
      "letter з : probability 0.025151025503873825\n",
      "letter р : probability 0.003801054321229458\n",
      "letter а : probability 0.0009691780433058739\n",
      "letter з : probability 0.020396187901496887\n",
      "letter л : probability 0.0011487988522276282\n",
      "letter и : probability 0.01777525804936886\n",
      "letter ч : probability 0.009633866138756275\n",
      "letter н : probability 0.006942213978618383\n",
      "letter о : probability 0.42959901690483093\n",
      "word:  эпитрохоиду\n",
      "letter э : probability 0.07146702706813812\n",
      "letter п : probability 0.08229708671569824\n",
      "letter и : probability 0.0004160724929533899\n",
      "letter т : probability 0.0028256825171411037\n",
      "letter р : probability 0.010752016678452492\n",
      "letter о : probability 0.0033647436648607254\n",
      "letter х : probability 0.006442463956773281\n",
      "letter о : probability 0.0014749332331120968\n",
      "letter и : probability 0.000750943087041378\n",
      "letter д : probability 0.04636700078845024\n",
      "letter у : probability 0.00903974287211895\n",
      "word:  общеобразовательного\n",
      "letter о : probability 0.005721531808376312\n",
      "letter б : probability 0.018490847200155258\n",
      "letter щ : probability 0.0063683222979307175\n",
      "letter е : probability 0.006563266739249229\n",
      "letter о : probability 0.07404822111129761\n",
      "letter б : probability 0.0895765870809555\n",
      "letter р : probability 0.0020767501555383205\n",
      "letter а : probability 0.03388480842113495\n",
      "letter з : probability 0.07830876111984253\n",
      "letter о : probability 0.04103199392557144\n",
      "letter в : probability 0.033011097460985184\n",
      "letter а : probability 0.0017363469814881682\n",
      "letter т : probability 0.058881063014268875\n",
      "letter е : probability 0.012730182148516178\n",
      "letter л : probability 0.0015560114989057183\n",
      "letter ь : probability 0.004675781354308128\n",
      "letter н : probability 0.0008274380816146731\n",
      "letter о : probability 0.00030851055635139346\n",
      "letter г : probability 0.009870532900094986\n",
      "letter о : probability 0.00028792707598768175\n",
      "word:  фригидной\n",
      "letter ф : probability 0.07851193100214005\n",
      "letter р : probability 0.061637602746486664\n",
      "letter и : probability 0.0010382120963186026\n",
      "letter г : probability 0.03236859664320946\n",
      "letter и : probability 0.0061017959378659725\n",
      "letter д : probability 0.15138646960258484\n",
      "letter н : probability 0.0019087388645857573\n",
      "letter о : probability 0.0004194819775875658\n",
      "letter й : probability 0.0008414594340138137\n",
      "word:  безмолвный\n",
      "letter б : probability 0.011069769971072674\n",
      "letter е : probability 0.18946729600429535\n",
      "letter з : probability 0.06137959286570549\n",
      "letter м : probability 0.002159474417567253\n",
      "letter о : probability 0.0014266165671870112\n",
      "letter л : probability 0.0035559574607759714\n",
      "letter в : probability 0.026033218950033188\n",
      "letter н : probability 0.03864976391196251\n",
      "letter ы : probability 0.301909476518631\n",
      "letter й : probability 0.017126355320215225\n",
      "word:  многолетним\n",
      "letter м : probability 0.06140986829996109\n",
      "letter н : probability 0.0003029514045920223\n",
      "letter о : probability 0.005936333443969488\n",
      "letter г : probability 0.07919004559516907\n",
      "letter о : probability 0.030966227874159813\n",
      "letter л : probability 0.0077712577767670155\n",
      "letter е : probability 0.008187905885279179\n",
      "letter т : probability 0.06547871232032776\n",
      "letter н : probability 0.00017533008940517902\n",
      "letter и : probability 4.987544525647536e-05\n",
      "letter м : probability 4.516726619385736e-07\n",
      "word:  оттопырьте\n",
      "letter о : probability 0.0014931740006431937\n",
      "letter т : probability 0.0282550361007452\n",
      "letter т : probability 0.0034448045771569014\n",
      "letter о : probability 0.0034908605739474297\n",
      "letter п : probability 0.10367998480796814\n",
      "letter ы : probability 0.0002859119849745184\n",
      "letter р : probability 0.0012841502903029323\n",
      "letter ь : probability 0.003206777386367321\n",
      "letter т : probability 0.009456450119614601\n",
      "letter е : probability 0.006510408129543066\n",
      "word:  долбануть\n",
      "letter д : probability 0.05664026737213135\n",
      "letter о : probability 0.015727650374174118\n",
      "letter л : probability 0.0533452108502388\n",
      "letter б : probability 0.05273671820759773\n",
      "letter а : probability 6.022753586876206e-05\n",
      "letter н : probability 0.11686824262142181\n",
      "letter у : probability 0.0005150922806933522\n",
      "letter т : probability 0.004355152137577534\n",
      "letter ь : probability 0.0005786950350739062\n",
      "word:  синеватые\n",
      "letter с : probability 0.005985839758068323\n",
      "letter и : probability 0.0009441165602765977\n",
      "letter н : probability 0.004350410308688879\n",
      "letter е : probability 0.002653590403497219\n",
      "letter в : probability 0.014716141857206821\n",
      "letter а : probability 0.12195207923650742\n",
      "letter т : probability 0.011465939693152905\n",
      "letter ы : probability 7.317350537050515e-05\n",
      "letter е : probability 0.0027600631583482027\n",
      "word:  колониальному\n",
      "letter к : probability 0.03123641386628151\n",
      "letter о : probability 0.0027236558962613344\n",
      "letter л : probability 0.02013397589325905\n",
      "letter о : probability 0.00658957427367568\n",
      "letter н : probability 0.0016599615337327123\n",
      "letter и : probability 0.016768530011177063\n",
      "letter а : probability 0.015996990725398064\n",
      "letter л : probability 0.02455877885222435\n",
      "letter ь : probability 0.009469973854720592\n",
      "letter н : probability 0.01324846874922514\n",
      "letter о : probability 0.054800231009721756\n",
      "letter м : probability 0.033924978226423264\n",
      "letter у : probability 0.0009329367894679308\n",
      "word:  надавливало\n",
      "letter н : probability 0.0018067327328026295\n",
      "letter а : probability 0.004062084946781397\n",
      "letter д : probability 0.007044485304504633\n",
      "letter а : probability 0.009551405906677246\n",
      "letter в : probability 0.023663230240345\n",
      "letter л : probability 0.02478482946753502\n",
      "letter и : probability 0.0005833075265400112\n",
      "letter в : probability 0.01476122997701168\n",
      "letter а : probability 0.004364639520645142\n",
      "letter л : probability 0.02699686400592327\n",
      "letter о : probability 0.001093587139621377\n",
      "word:  истерический\n",
      "letter и : probability 0.0030836721416562796\n",
      "letter с : probability 0.44205325841903687\n",
      "letter т : probability 0.003703662659972906\n",
      "letter е : probability 0.07914704084396362\n",
      "letter р : probability 0.16999691724777222\n",
      "letter и : probability 0.163169264793396\n",
      "letter ч : probability 0.02491346374154091\n",
      "letter е : probability 0.006390619091689587\n",
      "letter с : probability 0.010996978729963303\n",
      "letter к : probability 0.0166254173964262\n",
      "letter и : probability 0.00028139218920841813\n",
      "letter й : probability 0.02320016920566559\n"
     ]
    }
   ],
   "source": [
    "for i in range(-20, 0):\n",
    "    word = test_dataset.data[i]\n",
    "    print(\"word: \", word)\n",
    "    for j, letter in enumerate(word):\n",
    "        print('letter {} : probability {}'.format(letter, probs[i, j, vocab(letter)]))"
   ]
  },
  {
   "cell_type": "markdown",
   "metadata": {},
   "source": [
    "**2.8 (5 points)** Write a function that generates a single word (sequence of indexes) given the model. Do not forget about the hidden state! Be careful about start and end symbol indexes. Use ``torch.multinomial`` for sampling."
   ]
  },
  {
   "cell_type": "code",
   "execution_count": 21,
   "metadata": {},
   "outputs": [],
   "source": [
    "def generate(model, max_length=20, start_index=vocab._t2i['BEGIN'],  end_index=vocab._t2i['END'], pad_index=vocab._t2i['PAD']):\n",
    "    \"\"\"\n",
    "    == MY CODE HERE ==\n",
    "    \"\"\"\n",
    "    model.eval()\n",
    "    previous_letter = start_index\n",
    "    word = []\n",
    "    hidden=None\n",
    "    \n",
    "    for i in range(length):\n",
    "        ind = torch.tensor([previous_letter])[None, :]\n",
    "        prob, hidden = predict_on_batch(model, ind, hidden)\n",
    "        previous_letter = torch.multinomial(prob.squeeze(), 1)\n",
    "        if previous_letter in [start_index, end_index, pad_index]:\n",
    "            return ''.join(word)\n",
    "        previous_letter = previous_letter.cpu().numpy()[0]\n",
    "        word.append(vocab(previous_letter))\n",
    "    return ''.join(word)"
   ]
  },
  {
   "cell_type": "markdown",
   "metadata": {},
   "source": [
    "**2.9 (1 points)** Use ``generate`` to sample 20 pseudowords. Do not forget to transform indexes to letters."
   ]
  },
  {
   "cell_type": "code",
   "execution_count": 22,
   "metadata": {},
   "outputs": [
    {
     "name": "stdout",
     "output_type": "stream",
     "text": [
      "стригрикам\n",
      "галийским\n",
      "гронятию\n",
      "осладностями\n",
      "зиопакталось\n",
      "параинами\n",
      "пролютию\n",
      "разрасту\n",
      "гащу\n",
      "крюрию\n",
      "сосра\n",
      "навосовавшей\n",
      "соиствере\n",
      "эгоубственной\n",
      "полытем\n",
      "нагошением\n",
      "рухех\n",
      "потреговыми\n",
      "обтьёрных\n",
      "нес-жыстеее\n"
     ]
    }
   ],
   "source": [
    "for i in range(20):\n",
    "    \"\"\"\n",
    "    == MY CODE HERE ==\n",
    "    \"\"\"\n",
    "    print(generate(rnnlm))"
   ]
  },
  {
   "cell_type": "markdown",
   "metadata": {},
   "source": [
    "**(2.10) 5 points** Write a batched version of the generation function. You should sample the following symbol only for the words that are not finished yet, so apply a boolean mask to trace active words."
   ]
  },
  {
   "cell_type": "code",
   "execution_count": 23,
   "metadata": {},
   "outputs": [],
   "source": [
    "def generate_batch(model, batch_size, max_length=20,start_index=vocab._t2i['BEGIN'],  end_index=vocab._t2i['END'], pad_index=vocab._t2i['PAD']):\n",
    "    \"\"\"\n",
    "    == MY CODE HERE ==\n",
    "    \"\"\"\n",
    "    state = torch.tensor([start_index for i in range(batch_size)]).reshape(batch_size, 1)\n",
    "    generated_words = []\n",
    "    generated = None\n",
    "    hidden = None\n",
    "    \n",
    "    for i in range(max_length):\n",
    "        probs, hidden = predict_on_batch(model, state, hidden)\n",
    "        state = torch.multinomial(probs.squeeze(), num_samples=1)\n",
    "        if i == 0:\n",
    "            generated = state[None, :]\n",
    "        else:\n",
    "            generated = torch.cat((generated, state[None, :]))\n",
    "    for i in range(batch_size):\n",
    "        tensor = generated[:, i, 0]\n",
    "        last_pos = max_length\n",
    "        for j in range(max_length):\n",
    "            if tensor[j] in [start_index, end_index, pad_index]:\n",
    "                last_pos = j\n",
    "                break\n",
    "        generated_words.append(''.join([vocab(val.item()) for val in tensor[:last_pos]]))\n",
    "    return generated_words"
   ]
  },
  {
   "cell_type": "code",
   "execution_count": 24,
   "metadata": {},
   "outputs": [
    {
     "data": {
      "text/plain": [
       "['оглупическим',\n",
       " 'проводишь',\n",
       " 'произнечатов',\n",
       " 'сиской',\n",
       " 'патосной',\n",
       " 'распузанях',\n",
       " 'наглятов',\n",
       " 'бессошали',\n",
       " 'гословостом',\n",
       " 'знойному',\n",
       " 'социедом',\n",
       " 'кираете',\n",
       " 'преспревалит',\n",
       " 'посчитывают',\n",
       " 'единистом',\n",
       " 'абантному',\n",
       " 'якрысой',\n",
       " 'обидывала',\n",
       " 'сужешь',\n",
       " 'мектремского']"
      ]
     },
     "execution_count": 24,
     "metadata": {},
     "output_type": "execute_result"
    }
   ],
   "source": [
    "generate_batch(rnnlm, 20)"
   ]
  },
  {
   "cell_type": "markdown",
   "metadata": {},
   "source": [
    "**(2.11) 5 points** Experiment with the type of RNN, number of layers, units and/or dropout to improve the perplexity of the model."
   ]
  },
  {
   "cell_type": "code",
   "execution_count": 95,
   "metadata": {},
   "outputs": [],
   "source": [
    "class RNNLM(nn.Module):\n",
    "\n",
    "    def __init__(self, vocab_size, embeddings_dim, hidden_size1, hidden_size2, batch_size, device):\n",
    "        super(RNNLM, self).__init__()\n",
    "        \"\"\"\n",
    "        == MY CODE HERE ==\n",
    "        \"\"\"\n",
    "        self.vocab_size = vocab_size\n",
    "        self.embeddings_dim = embeddings_dim\n",
    "        self.hidden_size1 = hidden_size1\n",
    "        self.hidden_size2 = hidden_size2\n",
    "        self.batch_size = batch_size\n",
    "        self.device = device\n",
    "        self.embedding = nn.Embedding(num_embeddings=self.vocab_size, embedding_dim=self.embeddings_dim)\n",
    "        self.gru = nn.GRU(input_size=self.embeddings_dim, hidden_size=self.hidden_size1, batch_first=True)\n",
    "        self.dropout1 = nn.Dropout(0.5)\n",
    "        self.linear1 = nn.Linear(in_features=self.hidden_size1, out_features=self.hidden_size2)\n",
    "        self.relu = nn.ReLU()\n",
    "        self.dropout2 = nn.Dropout(0.5)\n",
    "        self.linear2 = nn.Linear(in_features=self.hidden_size2, out_features=self.vocab_size)\n",
    "        self.softmax = nn.LogSoftmax(dim=2)#Softmax doesn't work directly with NLLLoss\n",
    "        \n",
    "            \n",
    "        \n",
    "    def forward(self, inputs, hidden=None):\n",
    "        \"\"\"\n",
    "        == MY CODE HERE ==\n",
    "        \"\"\"\n",
    "        if hidden is None:\n",
    "            hidden = self.init_hidden(inputs.shape)\n",
    "        outputs = self.embedding(inputs)\n",
    "        outputs, hidden = self.gru(outputs, hidden)\n",
    "        outputs = self.dropout1(outputs)\n",
    "        outputs = self.linear1(outputs)\n",
    "        outputs = self.relu(outputs)\n",
    "        outputs = self.dropout2(outputs)\n",
    "        outputs = self.linear2(outputs)\n",
    "        outputs = self.softmax(outputs)\n",
    "        return outputs, hidden\n",
    "\n",
    "    def init_hidden(self, inputs_shape):\n",
    "        return torch.zeros(1, inputs_shape[0], self.hidden_size1, device = self.device) \n"
   ]
  },
  {
   "cell_type": "code",
   "execution_count": 126,
   "metadata": {},
   "outputs": [
    {
     "data": {
      "text/plain": [
       "RNNLM(\n",
       "  (embedding): Embedding(37, 37)\n",
       "  (gru): GRU(37, 100, batch_first=True)\n",
       "  (dropout1): Dropout(p=0.5)\n",
       "  (linear1): Linear(in_features=100, out_features=200, bias=True)\n",
       "  (relu): ReLU()\n",
       "  (dropout2): Dropout(p=0.5)\n",
       "  (linear2): Linear(in_features=200, out_features=37, bias=True)\n",
       "  (softmax): LogSoftmax()\n",
       ")"
      ]
     },
     "execution_count": 126,
     "metadata": {},
     "output_type": "execute_result"
    }
   ],
   "source": [
    "batch_size = 32\n",
    "learning_rate = 0.00001\n",
    "num_epochs = 100\n",
    "train_loss = []\n",
    "val_loss = []\n",
    "\n",
    "rnnlm = RNNLM(vocab_size=len(vocab), embeddings_dim=len(vocab), hidden_size1=100, hidden_size2=200, batch_size=batch_size, device=device)\n",
    "rnnlm.to(device)\n",
    "\n",
    "criterion = nn.CrossEntropyLoss()\n",
    "optimizer = torch.optim.Adam(rnnlm.parameters(), lr=learning_rate)\n",
    "rnnlm.to(device)"
   ]
  },
  {
   "cell_type": "code",
   "execution_count": 127,
   "metadata": {},
   "outputs": [],
   "source": [
    "train_dataloader = DataLoader(train_dataset, batch_size=32, collate_fn=Padder(dim=0, pad_symbol=pad_symb))\n",
    "val_dataloader = DataLoader(dev_dataset, batch_size=32, collate_fn=Padder(dim=0, pad_symbol=pad_symb))"
   ]
  },
  {
   "cell_type": "code",
   "execution_count": 128,
   "metadata": {
    "scrolled": true
   },
   "outputs": [
    {
     "name": "stdout",
     "output_type": "stream",
     "text": [
      "Epoch 0: train_loss = 3.5470201869805655, val_loss = 3.358273506164551\n",
      "Epoch 1: train_loss = 3.263772091931767, val_loss = 2.8072407245635986\n",
      "Epoch 2: train_loss = 2.7440136981507144, val_loss = 2.0095531940460205\n",
      "Epoch 3: train_loss = 2.34635386036502, val_loss = 1.7815905809402466\n",
      "Epoch 4: train_loss = 2.2263918080263667, val_loss = 1.7214616537094116\n",
      "Epoch 5: train_loss = 2.169568278723293, val_loss = 1.6815204620361328\n",
      "Epoch 6: train_loss = 2.1228463078538575, val_loss = 1.6443058252334595\n",
      "Epoch 7: train_loss = 2.077665224671364, val_loss = 1.6077706813812256\n",
      "Epoch 8: train_loss = 2.0364380044241748, val_loss = 1.574187159538269\n",
      "Epoch 9: train_loss = 2.0000431194073625, val_loss = 1.54642653465271\n",
      "Epoch 10: train_loss = 1.971457689586613, val_loss = 1.5252177715301514\n",
      "Epoch 11: train_loss = 1.9488770986596744, val_loss = 1.5084068775177002\n",
      "Epoch 12: train_loss = 1.928994607180357, val_loss = 1.494193196296692\n",
      "Epoch 13: train_loss = 1.9126790232128568, val_loss = 1.48121976852417\n",
      "Epoch 14: train_loss = 1.8956330658660994, val_loss = 1.4686026573181152\n",
      "Epoch 15: train_loss = 1.8803112448917494, val_loss = 1.4561583995819092\n",
      "Epoch 16: train_loss = 1.8636155149175062, val_loss = 1.4437886476516724\n",
      "Epoch 17: train_loss = 1.8476879389749632, val_loss = 1.431498646736145\n",
      "Epoch 18: train_loss = 1.8321672872536712, val_loss = 1.4194337129592896\n",
      "Epoch 19: train_loss = 1.8168606186906497, val_loss = 1.4071677923202515\n",
      "Epoch 20: train_loss = 1.8017481002542708, val_loss = 1.3952139616012573\n",
      "Epoch 21: train_loss = 1.7870545859138172, val_loss = 1.3836586475372314\n",
      "Epoch 22: train_loss = 1.7728226263489988, val_loss = 1.3727227449417114\n",
      "Epoch 23: train_loss = 1.7616423074569967, val_loss = 1.3627082109451294\n",
      "Epoch 24: train_loss = 1.7481200127965875, val_loss = 1.3530917167663574\n",
      "Epoch 25: train_loss = 1.7361513781878684, val_loss = 1.344077229499817\n",
      "Epoch 26: train_loss = 1.72676561648647, val_loss = 1.335924744606018\n",
      "Epoch 27: train_loss = 1.7171600552068815, val_loss = 1.329058051109314\n",
      "Epoch 28: train_loss = 1.7085772396789656, val_loss = 1.3226587772369385\n",
      "Epoch 29: train_loss = 1.701268534693453, val_loss = 1.31680166721344\n",
      "Epoch 30: train_loss = 1.691882220407327, val_loss = 1.3111612796783447\n",
      "Epoch 31: train_loss = 1.68417980397741, val_loss = 1.3061044216156006\n",
      "Epoch 32: train_loss = 1.6781805128686957, val_loss = 1.3012171983718872\n",
      "Epoch 33: train_loss = 1.6715845113827124, val_loss = 1.2970242500305176\n",
      "Epoch 34: train_loss = 1.6655581937068038, val_loss = 1.293095350265503\n",
      "Epoch 35: train_loss = 1.6598237624598875, val_loss = 1.2894474267959595\n",
      "Epoch 36: train_loss = 1.6552638490166929, val_loss = 1.2858860492706299\n",
      "Epoch 37: train_loss = 1.6511958398752742, val_loss = 1.282530665397644\n",
      "Epoch 38: train_loss = 1.6453320669631164, val_loss = 1.2793622016906738\n",
      "Epoch 39: train_loss = 1.641842819750309, val_loss = 1.2765729427337646\n",
      "Epoch 40: train_loss = 1.6367133951021566, val_loss = 1.273532748222351\n",
      "Epoch 41: train_loss = 1.6342410383125145, val_loss = 1.2709425687789917\n",
      "Epoch 42: train_loss = 1.6265533185667462, val_loss = 1.2682936191558838\n",
      "Epoch 43: train_loss = 1.624915926820702, val_loss = 1.2659051418304443\n",
      "Epoch 44: train_loss = 1.6210129538344011, val_loss = 1.2637481689453125\n",
      "Epoch 45: train_loss = 1.6172903548512194, val_loss = 1.2616121768951416\n",
      "Epoch 46: train_loss = 1.6157321230404906, val_loss = 1.259319543838501\n",
      "Epoch 47: train_loss = 1.6104048407740064, val_loss = 1.2572332620620728\n",
      "Epoch 48: train_loss = 1.6084202205141385, val_loss = 1.2552543878555298\n",
      "Epoch 49: train_loss = 1.604555945429537, val_loss = 1.2533738613128662\n",
      "Epoch 50: train_loss = 1.6016670155028503, val_loss = 1.2513469457626343\n",
      "Epoch 51: train_loss = 1.5987366787675354, val_loss = 1.2495752573013306\n",
      "Epoch 52: train_loss = 1.5970051263769467, val_loss = 1.2480589151382446\n",
      "Epoch 53: train_loss = 1.5936305394603147, val_loss = 1.2460459470748901\n",
      "Epoch 54: train_loss = 1.5918788100696273, val_loss = 1.244516372680664\n",
      "Epoch 55: train_loss = 1.5893623609509733, val_loss = 1.2429664134979248\n",
      "Epoch 56: train_loss = 1.5853672584311829, val_loss = 1.2412739992141724\n",
      "Epoch 57: train_loss = 1.5845318300028641, val_loss = 1.2396377325057983\n",
      "Epoch 58: train_loss = 1.5823189773493342, val_loss = 1.238065242767334\n",
      "Epoch 59: train_loss = 1.579849021302329, val_loss = 1.236713171005249\n",
      "Epoch 60: train_loss = 1.5796444053865142, val_loss = 1.2351704835891724\n",
      "Epoch 61: train_loss = 1.5763933896604512, val_loss = 1.2335822582244873\n",
      "Epoch 62: train_loss = 1.5733231788294182, val_loss = 1.2320842742919922\n",
      "Epoch 63: train_loss = 1.5708992675774627, val_loss = 1.2306663990020752\n",
      "Epoch 64: train_loss = 1.568730407084028, val_loss = 1.229172706604004\n",
      "Epoch 65: train_loss = 1.566625991422269, val_loss = 1.227744221687317\n",
      "Epoch 66: train_loss = 1.5669752696735992, val_loss = 1.2262381315231323\n",
      "Epoch 67: train_loss = 1.5632892733232842, val_loss = 1.2246993780136108\n",
      "Epoch 68: train_loss = 1.5624622222450044, val_loss = 1.223185658454895\n",
      "Epoch 69: train_loss = 1.560729895821876, val_loss = 1.2219510078430176\n",
      "Epoch 70: train_loss = 1.559627642441127, val_loss = 1.2202824354171753\n",
      "Epoch 71: train_loss = 1.5567882696373596, val_loss = 1.2192777395248413\n",
      "Epoch 72: train_loss = 1.5553567326731152, val_loss = 1.2179594039916992\n",
      "Epoch 73: train_loss = 1.5524428617209196, val_loss = 1.2162104845046997\n",
      "Epoch 74: train_loss = 1.5526489127013419, val_loss = 1.2148070335388184\n",
      "Epoch 75: train_loss = 1.551177326382862, val_loss = 1.2134311199188232\n",
      "Epoch 76: train_loss = 1.548573451116681, val_loss = 1.212250828742981\n",
      "Epoch 77: train_loss = 1.5480592120438814, val_loss = 1.2112535238265991\n",
      "Epoch 78: train_loss = 1.5453711474935214, val_loss = 1.2100080251693726\n",
      "Epoch 79: train_loss = 1.5448512385288875, val_loss = 1.208791971206665\n",
      "Epoch 80: train_loss = 1.5432344105922513, val_loss = 1.207532525062561\n",
      "Epoch 81: train_loss = 1.541175649397903, val_loss = 1.2063374519348145\n",
      "Epoch 82: train_loss = 1.5412149416903655, val_loss = 1.2050650119781494\n",
      "Epoch 83: train_loss = 1.5404191592501268, val_loss = 1.2040026187896729\n",
      "Epoch 84: train_loss = 1.5375791440407436, val_loss = 1.2023802995681763\n",
      "Epoch 85: train_loss = 1.5370537435842886, val_loss = 1.2013417482376099\n",
      "Epoch 86: train_loss = 1.5351908095180988, val_loss = 1.2002427577972412\n",
      "Epoch 87: train_loss = 1.534041869143645, val_loss = 1.1990768909454346\n",
      "Epoch 88: train_loss = 1.5340898452947538, val_loss = 1.197772741317749\n",
      "Epoch 89: train_loss = 1.5321483970102336, val_loss = 1.1967097520828247\n",
      "Epoch 90: train_loss = 1.5297133552117481, val_loss = 1.1957993507385254\n",
      "Epoch 91: train_loss = 1.5292603245211973, val_loss = 1.1948010921478271\n",
      "Epoch 92: train_loss = 1.528855134629541, val_loss = 1.193747878074646\n",
      "Epoch 93: train_loss = 1.527382471288244, val_loss = 1.192537546157837\n",
      "Epoch 94: train_loss = 1.5251985908382468, val_loss = 1.1915478706359863\n",
      "Epoch 95: train_loss = 1.526009465671248, val_loss = 1.1903916597366333\n",
      "Epoch 96: train_loss = 1.5239923637774255, val_loss = 1.189586877822876\n",
      "Epoch 97: train_loss = 1.5232838085956044, val_loss = 1.1884040832519531\n",
      "Epoch 98: train_loss = 1.5234385552919574, val_loss = 1.1876556873321533\n",
      "Epoch 99: train_loss = 1.5206020215733185, val_loss = 1.1862751245498657\n"
     ]
    }
   ],
   "source": [
    "for epoch in range(num_epochs):\n",
    "    iterations_train = 0\n",
    "    train_loss_iter = 0\n",
    "    val_loss_iter = 0\n",
    "    for ind, (x, y) in enumerate(train_loader):\n",
    "        train_loss_iter += train_on_batch(rnnlm, criterion, x, y, optimizer)\n",
    "        iterations_train += 1\n",
    "        torch.cuda.empty_cache()\n",
    "    for ind, (x, y) in enumerate(dev_loader):\n",
    "        rnnlm.eval()\n",
    "        val_loss_iter = validate_on_batch(rnnlm, criterion, x, y)\n",
    "        torch.cuda.empty_cache()\n",
    "    train_loss.append(train_loss_iter / iterations_train)\n",
    "    val_loss.append(val_loss_iter)\n",
    "    print(\"Epoch {}: train_loss = {}, val_loss = {}\".format(epoch, train_loss[-1], val_loss[-1]))"
   ]
  },
  {
   "cell_type": "code",
   "execution_count": 129,
   "metadata": {},
   "outputs": [
    {
     "data": {
      "image/png": "[encoded data removed]",
      "text/plain": [
       "<Figure size 432x288 with 1 Axes>"
      ]
     },
     "metadata": {
      "needs_background": "light"
     },
     "output_type": "display_data"
    }
   ],
   "source": [
    "fig, ax = plt.subplots()\n",
    "ax.plot(np.arange(1,len(train_loss)+1), train_loss, label='train', color='black')\n",
    "ax.plot(np.arange(1,len(val_loss)+1), val_loss, label='val', color='red')\n",
    "\n",
    "ax.set(ylabel='loss', xlabel='epoch')\n",
    "ax.grid()\n",
    "plt.legend()\n",
    "plt.show()"
   ]
  },
  {
   "cell_type": "code",
   "execution_count": 130,
   "metadata": {},
   "outputs": [
    {
     "data": {
      "text/plain": [
       "['чальных',\n",
       " 'попония',\n",
       " 'торбалися',\n",
       " 'попезнобнам',\n",
       " 'рнутеля',\n",
       " 'тезлеломы',\n",
       " 'хрестажитие',\n",
       " 'келъуты',\n",
       " 'ижавёнкый',\n",
       " 'зрижьскыли',\n",
       " 'памтегльело',\n",
       " 'ядушисловшеваелия',\n",
       " 'убакрокаатит',\n",
       " 'уитеслаторем',\n",
       " 'дестрыры',\n",
       " 'вубезжнох',\n",
       " 'певелфшуе',\n",
       " 'пенёльноим',\n",
       " 'одотлюле',\n",
       " 'келяльн']"
      ]
     },
     "execution_count": 130,
     "metadata": {},
     "output_type": "execute_result"
    }
   ],
   "source": [
    "generate_batch(rnnlm, 20)"
   ]
  },
  {
   "cell_type": "code",
   "execution_count": null,
   "metadata": {},
   "outputs": [],
   "source": []
  },
  {
   "cell_type": "code",
   "execution_count": null,
   "metadata": {},
   "outputs": [],
   "source": []
  }
 ],
 "metadata": {
  "kernelspec": {
   "display_name": "Python 3",
   "language": "python",
   "name": "python3"
  },
  "language_info": {
   "codemirror_mode": {
    "name": "ipython",
    "version": 3
   },
   "file_extension": ".py",
   "mimetype": "text/x-python",
   "name": "python",
   "nbconvert_exporter": "python",
   "pygments_lexer": "ipython3",
   "version": "3.7.6"
  }
 },
 "nbformat": 4,
 "nbformat_minor": 4
}
