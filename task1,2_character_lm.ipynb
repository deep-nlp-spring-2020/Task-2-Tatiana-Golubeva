{
 "cells": [
  {
   "cell_type": "markdown",
   "metadata": {},
   "source": [
    "# Assignment 2. Language modeling.\n",
    "\n",
    "This task is devoted to language modeling. Its goal is to write in PyTorch an RNN-based language model. Since word-based language modeling requires long training and is memory-consuming due to large vocabulary, we start with character-based language modeling. We are going to train the model to generate words as sequence of characters. During training we teach it to predict characters of the words in the training set.\n",
    "\n",
    "\n",
    "\n",
    "## Task 1. Character-based language modeling: data preparation (15 points)."
   ]
  },
  {
   "cell_type": "markdown",
   "metadata": {},
   "source": [
    "We train the language models on the materials of **Sigmorphon 2018 Shared Task**. First, download the Russian datasets."
   ]
  },
  {
   "cell_type": "code",
   "execution_count": 1,
   "metadata": {},
   "outputs": [
    {
     "name": "stdout",
     "output_type": "stream",
     "text": [
      "--2020-03-25 11:58:25--  https://raw.githubusercontent.com/sigmorphon/conll2018/master/task1/surprise/russian-train-high\n",
      "Распознаётся raw.githubusercontent.com (raw.githubusercontent.com)… 151.101.112.133\n",
      "Подключение к raw.githubusercontent.com (raw.githubusercontent.com)|151.101.112.133|:443... соединение установлено.\n",
      "HTTP-запрос отправлен. Ожидание ответа… 200 OK\n",
      "Длина: 533309 (521K) [text/plain]\n",
      "Сохранение в: «russian-train-high»\n",
      "\n",
      "russian-train-high  100%[===================>] 520,81K   350KB/s    за 1,5s    \n",
      "\n",
      "2020-03-25 11:58:27 (350 KB/s) - «russian-train-high» сохранён [533309/533309]\n",
      "\n",
      "--2020-03-25 11:58:27--  https://raw.githubusercontent.com/sigmorphon/conll2018/master/task1/surprise/russian-dev\n",
      "Распознаётся raw.githubusercontent.com (raw.githubusercontent.com)… 151.101.112.133\n",
      "Подключение к raw.githubusercontent.com (raw.githubusercontent.com)|151.101.112.133|:443... соединение установлено.\n",
      "HTTP-запрос отправлен. Ожидание ответа… 200 OK\n",
      "Длина: 53671 (52K) [text/plain]\n",
      "Сохранение в: «russian-dev»\n",
      "\n",
      "russian-dev         100%[===================>]  52,41K  --.-KB/s    за 0,09s   \n",
      "\n",
      "2020-03-25 11:58:28 (562 KB/s) - «russian-dev» сохранён [53671/53671]\n",
      "\n",
      "--2020-03-25 11:58:28--  https://raw.githubusercontent.com/sigmorphon/conll2018/master/task1/surprise/russian-test\n",
      "Распознаётся raw.githubusercontent.com (raw.githubusercontent.com)… 151.101.112.133\n",
      "Подключение к raw.githubusercontent.com (raw.githubusercontent.com)|151.101.112.133|:443... соединение установлено.\n",
      "HTTP-запрос отправлен. Ожидание ответа… 200 OK\n",
      "Длина: 53514 (52K) [text/plain]\n",
      "Сохранение в: «russian-test»\n",
      "\n",
      "russian-test        100%[===================>]  52,26K  --.-KB/s    за 0,1s    \n",
      "\n",
      "2020-03-25 11:58:29 (527 KB/s) - «russian-test» сохранён [53514/53514]\n",
      "\n"
     ]
    }
   ],
   "source": [
    "!wget https://raw.githubusercontent.com/sigmorphon/conll2018/master/task1/surprise/russian-train-high\n",
    "!wget https://raw.githubusercontent.com/sigmorphon/conll2018/master/task1/surprise/russian-dev\n",
    "!wget https://raw.githubusercontent.com/sigmorphon/conll2018/master/task1/surprise/russian-test"
   ]
  },
  {
   "cell_type": "markdown",
   "metadata": {},
   "source": [
    "**1.1 (1 points)**\n",
    "All the files contain tab-separated triples ```<lemma>-<form>-<tags>```, where ```<form>``` may contain spaces (*будете соответствовать*). Write a function that loads a list of all word forms, that do not contain spaces.  "
   ]
  },
  {
   "cell_type": "code",
   "execution_count": 1,
   "metadata": {},
   "outputs": [],
   "source": [
    "def read_infile(infile):\n",
    "    \"\"\"\n",
    "    == MY CODE HERE ==\n",
    "    \"\"\"\n",
    "    words = []\n",
    "    with open(infile, encoding='utf-8') as f:\n",
    "        lines = f.readlines()\n",
    "        for line in lines:\n",
    "            splited_line = line.split()\n",
    "            if len(splited_line )==3:\n",
    "                words.append(splited_line[1].lower())\n",
    "    return words"
   ]
  },
  {
   "cell_type": "code",
   "execution_count": 2,
   "metadata": {},
   "outputs": [
    {
     "name": "stdout",
     "output_type": "stream",
     "text": [
      "9213 917 922\n",
      "валлонскому незаконченным истрёпывав личного серьгам необоснованным тюти заросла идеальна гулкой\n"
     ]
    }
   ],
   "source": [
    "train_words = read_infile(\"russian-train-high\")\n",
    "dev_words = read_infile(\"russian-dev\")\n",
    "test_words = read_infile(\"russian-test\")\n",
    "print(len(train_words), len(dev_words), len(test_words))\n",
    "print(*train_words[:10])"
   ]
  },
  {
   "cell_type": "markdown",
   "metadata": {},
   "source": [
    "**1.2 (2 points)** Write a **Vocabulary** class that allows to transform symbols into their indexes. The class should have the method ```__call__``` that applies this transformation to sequences of symbols and batches of sequences as well. You can also use [SimpleVocabulary](https://github.com/deepmipt/DeepPavlov/blob/c10b079b972493220c82a643d47d718d5358c7f4/deeppavlov/core/data/simple_vocab.py#L31) from DeepPavlov. Fit an instance of this class on the training data."
   ]
  },
  {
   "cell_type": "code",
   "execution_count": 3,
   "metadata": {},
   "outputs": [
    {
     "name": "stderr",
     "output_type": "stream",
     "text": [
      "2020-03-25 19:19:13.966 WARNING in 'deeppavlov.core.models.serializable'['serializable'] at line 49: No load path is set for SimpleVocabulary in 'infer' mode. Using save path instead\n"
     ]
    },
    {
     "name": "stdout",
     "output_type": "stream",
     "text": [
      "37\n"
     ]
    }
   ],
   "source": [
    "from deeppavlov.core.data.simple_vocab import SimpleVocabulary\n",
    "\"\"\"\n",
    "== MY CODE HERE ==\n",
    "\"\"\"\n",
    "vocab = SimpleVocabulary(special_tokens=('PAD', 'BEGIN', 'END'), \n",
    "                         unk_token='UNK', save_path='./tmp')\n",
    "\n",
    "vocab.fit([list(x) for x in train_words])\n",
    "print(len(vocab))"
   ]
  },
  {
   "cell_type": "markdown",
   "metadata": {},
   "source": [
    "**1.3 (2 points)** Write a **Dataset** class, which should be inherited from ```torch.utils.data.Dataset```. It should take a list of words and the ```vocab``` as initialization arguments."
   ]
  },
  {
   "cell_type": "code",
   "execution_count": 4,
   "metadata": {},
   "outputs": [],
   "source": [
    "import torch\n",
    "from torch.utils.data import Dataset as TorchDataset\n",
    "  \n",
    "class Dataset(TorchDataset):\n",
    "    \"\"\"Custom data.Dataset compatible with data.DataLoader.\"\"\"\n",
    "\n",
    "    def __init__(self, data, vocab):\n",
    "        self.data = data\n",
    "        self.vocab = vocab\n",
    "\n",
    "    def __getitem__(self, index):\n",
    "        \"\"\"\n",
    "        Returns one tensor pair (source and target). The source tensor corresponds to the input word,\n",
    "        with \"BEGIN\" and \"END\" symbols attached. The target tensor should contain the answers\n",
    "        for the language model that obtain these word as input.\n",
    "        \"\"\"\n",
    "        word = self.data[index]\n",
    "        batch = self.vocab.__call__(['BEGIN'] + list(word) + ['END'])\n",
    "        return (torch.LongTensor(batch[:-1]), torch.LongTensor(batch[1:]))\n",
    "\n",
    "    def __len__(self):\n",
    "        return len(self.data)"
   ]
  },
  {
   "cell_type": "code",
   "execution_count": 5,
   "metadata": {},
   "outputs": [],
   "source": [
    "train_dataset = Dataset(train_words, vocab)\n",
    "dev_dataset = Dataset(dev_words, vocab)\n",
    "test_dataset = Dataset(test_words, vocab)"
   ]
  },
  {
   "cell_type": "markdown",
   "metadata": {},
   "source": [
    "**1.4 (3 points)** Use a standard ```torch.utils.data.DataLoader``` to obtain an iterable over batches. Print the shape of first 10 input batches with ```batch_size=1```."
   ]
  },
  {
   "cell_type": "code",
   "execution_count": 6,
   "metadata": {},
   "outputs": [],
   "source": [
    "from torch.utils.data import DataLoader\n",
    "\n",
    "\"\"\"\n",
    "== MY CODE HERE ==\n",
    "\"\"\"\n",
    "\n",
    "\n",
    "train_loader = DataLoader(train_dataset, batch_size=1)\n",
    "dev_loader = DataLoader(dev_dataset, batch_size=1)\n",
    "test_loader = DataLoader(test_dataset, batch_size=1)\n"
   ]
  },
  {
   "cell_type": "code",
   "execution_count": 7,
   "metadata": {},
   "outputs": [
    {
     "name": "stdout",
     "output_type": "stream",
     "text": [
      "torch.Size([1, 12]) torch.Size([1, 12])\n",
      "torch.Size([1, 14]) torch.Size([1, 14])\n",
      "torch.Size([1, 11]) torch.Size([1, 11])\n",
      "torch.Size([1, 8]) torch.Size([1, 8])\n",
      "torch.Size([1, 8]) torch.Size([1, 8])\n",
      "torch.Size([1, 15]) torch.Size([1, 15])\n",
      "torch.Size([1, 5]) torch.Size([1, 5])\n",
      "torch.Size([1, 8]) torch.Size([1, 8])\n",
      "torch.Size([1, 9]) torch.Size([1, 9])\n",
      "torch.Size([1, 7]) torch.Size([1, 7])\n"
     ]
    }
   ],
   "source": [
    "        \n",
    "for batch, i in zip(train_loader, range(10)):\n",
    "    print (batch[0].shape, batch[1].shape)"
   ]
  },
  {
   "cell_type": "markdown",
   "metadata": {},
   "source": [
    "**(1.5) 1 point** Explain, why this does not work with larger batch size."
   ]
  },
  {
   "cell_type": "raw",
   "metadata": {},
   "source": [
    "Because we cannot create batches of tensors with varying dimensions."
   ]
  },
  {
   "cell_type": "markdown",
   "metadata": {},
   "source": [
    "**(1.6) 5 points** Write a function **collate** that allows you to deal with batches of greater size. See [discussion](https://discuss.pytorch.org/t/dataloader-for-various-length-of-data/6418/8) for an example. Implement your function as a class ```__call__``` method to make it more flexible."
   ]
  },
  {
   "cell_type": "code",
   "execution_count": 8,
   "metadata": {},
   "outputs": [],
   "source": [
    "import numpy as np\n",
    "\n",
    "def pad_tensor(vec, length, dim, pad_symbol):\n",
    "    \"\"\"\n",
    "    Pads a vector ``vec`` up to length ``length`` along axis ``dim`` with pad symbol ``pad_symbol``.\n",
    "    \"\"\"\n",
    "    \"\"\"\n",
    "    == MY CODE HERE ==\n",
    "    \"\"\"\n",
    "    output_dims = list(vec.shape)\n",
    "    pad = np.zeros((len(output_dims)*2,)).astype(int).tolist()\n",
    "    k = len(output_dims)-dim-1\n",
    "    pad[2*k+1] = length-output_dims[dim]\n",
    "    return torch.nn.functional.pad(vec, pad, mode='constant', value=pad_symbol)\n",
    "\n",
    "class Padder:\n",
    "    \n",
    "    def __init__(self, dim=0, pad_symbol=0, length=None):\n",
    "        self.dim = dim\n",
    "        self.pad_symbol = pad_symbol\n",
    "        self.length = length\n",
    "    def __call__(self, batch):\n",
    "        \"\"\"\n",
    "        == MY CODE HERE ==\n",
    "        \"\"\"\n",
    "        if self.length is None:\n",
    "            length = sorted([term[0].shape[self.dim] for term in batch])[-1]\n",
    "        else:\n",
    "            length = self.length\n",
    "        source = torch.stack([pad_tensor(term[0], length, self.dim, self.pad_symbol) for term in batch])\n",
    "        targets = torch.stack([pad_tensor(term[1], length, self.dim, self.pad_symbol) for term in batch])\n",
    "        return [source, targets]"
   ]
  },
  {
   "cell_type": "markdown",
   "metadata": {},
   "source": [
    "**(1.7) 1 points** Again, use ```torch.utils.data.DataLoader``` to obtain an iterable over batches. Print the shape of first 10 input batches with the batch size you like."
   ]
  },
  {
   "cell_type": "code",
   "execution_count": 9,
   "metadata": {},
   "outputs": [],
   "source": [
    "from torch.utils.data import DataLoader\n",
    "\n",
    "\"\"\"\n",
    "== MY CODE HERE ==\n",
    "\"\"\"\n",
    "pad_symb=vocab._t2i['PAD']\n",
    "train_loader = DataLoader(train_dataset, batch_size=32, collate_fn=Padder(pad_symbol=pad_symb))\n",
    "dev_loader = DataLoader(dev_dataset, batch_size=32, collate_fn=Padder(pad_symbol=pad_symb))\n",
    "test_loader = DataLoader(test_dataset, batch_size=32, collate_fn=Padder(pad_symbol=pad_symb))"
   ]
  },
  {
   "cell_type": "code",
   "execution_count": 10,
   "metadata": {},
   "outputs": [
    {
     "name": "stdout",
     "output_type": "stream",
     "text": [
      "torch.Size([32, 16]) torch.Size([32, 16])\n",
      "torch.Size([32, 18]) torch.Size([32, 18])\n",
      "torch.Size([32, 16]) torch.Size([32, 16])\n",
      "torch.Size([32, 17]) torch.Size([32, 17])\n",
      "torch.Size([32, 19]) torch.Size([32, 19])\n",
      "torch.Size([32, 16]) torch.Size([32, 16])\n",
      "torch.Size([32, 17]) torch.Size([32, 17])\n",
      "torch.Size([32, 18]) torch.Size([32, 18])\n",
      "torch.Size([32, 16]) torch.Size([32, 16])\n",
      "torch.Size([32, 19]) torch.Size([32, 19])\n"
     ]
    }
   ],
   "source": [
    "        \n",
    "for batch, i in zip(train_loader, range(10)):\n",
    "    print (batch[0].shape, batch[1].shape)"
   ]
  },
  {
   "cell_type": "markdown",
   "metadata": {},
   "source": [
    "## Task 2. Character-based language modeling. (35 points)"
   ]
  },
  {
   "cell_type": "markdown",
   "metadata": {},
   "source": [
    "**2.1 (5 points)** Write a network that performs language modeling. It should include three layers:\n",
    "1. **Embedding** layer that transforms input symbols into vectors.\n",
    "2. An **RNN** layer that outputs a sequence of hidden states (you may use https://pytorch.org/docs/stable/nn.html#gru).\n",
    "3. A **Linear** layer with ``softmax`` activation that produces the output distribution for each symbol."
   ]
  },
  {
   "cell_type": "code",
   "execution_count": 11,
   "metadata": {},
   "outputs": [],
   "source": [
    "import torch.nn as nn\n",
    "\n",
    "class RNNLM(nn.Module):\n",
    "\n",
    "    def __init__(self, vocab_size, embeddings_dim, hidden_size, batch_size, device):\n",
    "        super(RNNLM, self).__init__()\n",
    "        \"\"\"\n",
    "        == MY CODE HERE ==\n",
    "        \"\"\"\n",
    "        self.vocab_size = vocab_size\n",
    "        self.embeddings_dim = embeddings_dim\n",
    "        self.hidden_size = hidden_size\n",
    "        self.batch_size = batch_size\n",
    "        self.device = device\n",
    "        self.embedding = nn.Embedding(num_embeddings=self.vocab_size, embedding_dim=self.embeddings_dim)\n",
    "        self.gru = nn.GRU(input_size=self.embeddings_dim, hidden_size=self.hidden_size, batch_first=True)\n",
    "        self.linear = nn.Linear(in_features=self.hidden_size, out_features=self.vocab_size)\n",
    "        self.softmax = nn.LogSoftmax(dim=2)#Softmax doesn't work directly with NLLLoss\n",
    "        \n",
    "    def forward(self, inputs, hidden=None):\n",
    "        \"\"\"\n",
    "        == MY CODE HERE ==\n",
    "        \"\"\"\n",
    "        if hidden is None:\n",
    "            hidden = self.init_hidden(inputs.shape)\n",
    "        outputs = self.embedding(inputs)\n",
    "        outputs, hidden = self.gru(outputs)\n",
    "        outputs = self.linear(outputs)\n",
    "        outputs = self.softmax(outputs)\n",
    "        return outputs, hidden\n",
    "\n",
    "    def init_hidden(self, inputs_shape):\n",
    "        return torch.zeros(1, inputs_shape[0], self.embeddings_dim, device = self.device)\n"
   ]
  },
  {
   "cell_type": "markdown",
   "metadata": {},
   "source": [
    "**2.2 (1 points)** Write a function ``validate_on_batch`` that takes as input a model, a batch of inputs and a batch of outputs, and the loss criterion, and outputs the loss tensor for the whole batch. This loss should not be normalized."
   ]
  },
  {
   "cell_type": "code",
   "execution_count": 12,
   "metadata": {},
   "outputs": [],
   "source": [
    "def validate_on_batch(model, criterion, x, y):\n",
    "    \"\"\"\n",
    "    == MY CODE HERE ==\n",
    "    \"\"\"\n",
    "    x = x.to(device)\n",
    "    y = y.to(device)\n",
    "    predictions, _ = model(x)\n",
    "    return criterion(predictions.reshape(predictions.shape[0] * predictions.shape[1], -1), \n",
    "                     y.reshape(predictions.shape[1] * predictions.shape[0]))\n"
   ]
  },
  {
   "cell_type": "markdown",
   "metadata": {},
   "source": [
    "**2.3 (1 points)** Write a function ``train_on_batch`` that accepts all the arguments of ``validate_on_batch`` and also an optimizer, calculates loss and makes a single step of gradient optimization. This function should call ``validate_on_batch`` inside."
   ]
  },
  {
   "cell_type": "code",
   "execution_count": 13,
   "metadata": {},
   "outputs": [],
   "source": [
    "def train_on_batch(model, criterion, x, y, optimizer):\n",
    "    \"\"\"\n",
    "    == MY CODE HERE ==\n",
    "    \"\"\"\n",
    "    model.train()\n",
    "    optimizer.zero_grad()\n",
    "    loss = validate_on_batch(model, criterion, x, y)\n",
    "    loss.backward()\n",
    "    optimizer.step()\n",
    "    return np.mean(loss.item())"
   ]
  },
  {
   "cell_type": "markdown",
   "metadata": {},
   "source": [
    "**2.4 (3 points)** Write a training loop. You should define your ``RNNLM`` model, the criterion, the optimizer and the hyperparameters (number of epochs and batch size). Then train the model for a required number of epochs. On each epoch evaluate the average training loss and the average loss on the validation set. \n",
    "\n",
    "**2.5 (3 points)** Do not forget to average your loss over only non-padding symbols, otherwise it will be too optimistic."
   ]
  },
  {
   "cell_type": "code",
   "execution_count": 14,
   "metadata": {},
   "outputs": [
    {
     "name": "stdout",
     "output_type": "stream",
     "text": [
      "device:  cuda\n"
     ]
    }
   ],
   "source": [
    "\"\"\"\n",
    "== MY CODE HERE ==\n",
    "\"\"\"\n",
    "\n",
    "if torch.cuda.is_available():\n",
    "    device = 'cuda'\n",
    "    torch.cuda.set_device(2)\n",
    "else:\n",
    "    device = 'cpu'\n",
    "\n",
    "\n",
    "print(\"device: \", device)"
   ]
  },
  {
   "cell_type": "code",
   "execution_count": 15,
   "metadata": {},
   "outputs": [
    {
     "data": {
      "text/plain": [
       "RNNLM(\n",
       "  (embedding): Embedding(37, 37)\n",
       "  (gru): GRU(37, 200, batch_first=True)\n",
       "  (linear): Linear(in_features=200, out_features=37, bias=True)\n",
       "  (softmax): LogSoftmax()\n",
       ")"
      ]
     },
     "execution_count": 15,
     "metadata": {},
     "output_type": "execute_result"
    }
   ],
   "source": [
    "batch_size = 32\n",
    "learning_rate = 0.001\n",
    "num_epochs = 300\n",
    "train_loss = []\n",
    "val_loss = []\n",
    "\n",
    "rnnlm = RNNLM(vocab_size=len(vocab), embeddings_dim=len(vocab), hidden_size=200, batch_size=batch_size, device=device)\n",
    "rnnlm.to(device)\n",
    "\n",
    "weights = torch.ones((len(vocab),)).to(device)\n",
    "weights[pad_symb]  = 0\n",
    "criterion = nn.NLLLoss(weight=weights, reduction='mean')\n",
    "optimizer = torch.optim.Adam(rnnlm.parameters(), lr=learning_rate)\n",
    "rnnlm.to(device)"
   ]
  },
  {
   "cell_type": "code",
   "execution_count": 16,
   "metadata": {
    "scrolled": true
   },
   "outputs": [
    {
     "name": "stdout",
     "output_type": "stream",
     "text": [
      "Epoch 0: train_loss = 2.5524325031373234, val_loss = 2.3009464740753174\n",
      "Epoch 100: train_loss = 1.075096734902925, val_loss = 2.998997926712036\n",
      "Epoch 200: train_loss = 1.0400415677577257, val_loss = 3.129255533218384\n"
     ]
    }
   ],
   "source": [
    "for epoch in range(num_epochs):\n",
    "    iterations_train = 0\n",
    "    train_loss_iter = 0\n",
    "    val_loss_iter = 0\n",
    "    for ind, (x, y) in enumerate(train_loader):\n",
    "        train_loss_iter += train_on_batch(rnnlm, criterion, x, y, optimizer)\n",
    "        iterations_train += 1\n",
    "        torch.cuda.empty_cache()\n",
    "    for ind, (x, y) in enumerate(dev_loader):\n",
    "        rnnlm.eval()\n",
    "        val_loss_iter = validate_on_batch(rnnlm, criterion, x, y)\n",
    "        torch.cuda.empty_cache()\n",
    "    train_loss.append(train_loss_iter / iterations_train)\n",
    "    val_loss.append(val_loss_iter)\n",
    "    if epoch%100 == 0:\n",
    "        print(\"Epoch {}: train_loss = {}, val_loss = {}\".format(epoch, train_loss[-1], val_loss[-1]))\n",
    "        "
   ]
  },
  {
   "cell_type": "code",
   "execution_count": 17,
   "metadata": {},
   "outputs": [
    {
     "data": {
      "image/png": "[encoded data removed]",
      "text/plain": [
       "<Figure size 432x288 with 1 Axes>"
      ]
     },
     "metadata": {
      "needs_background": "light"
     },
     "output_type": "display_data"
    }
   ],
   "source": [
    "import matplotlib.pyplot as plt\n",
    "%matplotlib inline\n",
    "\n",
    "fig, ax = plt.subplots()\n",
    "ax.plot(np.arange(1,len(train_loss)+1), train_loss, label='train', color='black')\n",
    "ax.plot(np.arange(1,len(val_loss)+1), val_loss, label='val', color='red')\n",
    "\n",
    "ax.set(ylabel='loss', xlabel='epoch')\n",
    "ax.grid()\n",
    "plt.legend()\n",
    "plt.show()\n"
   ]
  },
  {
   "cell_type": "markdown",
   "metadata": {},
   "source": [
    "**2.6 (5 points)** Write a function **predict_on_batch** that outputs letter probabilities of all words in the batch."
   ]
  },
  {
   "cell_type": "code",
   "execution_count": 18,
   "metadata": {},
   "outputs": [],
   "source": [
    "\"\"\"\n",
    "== MY CODE HERE ==\n",
    "\"\"\"\n",
    "\n",
    "def predict_on_batch(model, batch, hidden=None, dim=0):\n",
    "    model.eval()\n",
    "    batch = batch.to(device)\n",
    "    preds, hidden = model(batch, hidden)\n",
    "    softmax = nn.Softmax(dim=dim)\n",
    "    return (softmax(preds), hidden)"
   ]
  },
  {
   "cell_type": "markdown",
   "metadata": {},
   "source": [
    "**2.7 (1 points)** Calculate the letter probabilities for all words in the test dataset. Print them for 20 last words. Do not forget to disable shuffling in the ``DataLoader``."
   ]
  },
  {
   "cell_type": "code",
   "execution_count": 23,
   "metadata": {},
   "outputs": [],
   "source": [
    "\"\"\"\n",
    "== MY CODE HERE ==\n",
    "\"\"\"\n",
    "length = max(map(lambda x: x[0].shape[-1], test_dataset))\n",
    "test_loader = DataLoader(train_dataset, batch_size=32, shuffle = False, collate_fn=Padder(length=length, pad_symbol=3))\n",
    "probs = None\n",
    "hidden = None\n",
    "\n",
    "for ind, (x, y) in enumerate(test_loader): \n",
    "    if ind == 0:\n",
    "        probs, hidden = predict_on_batch(rnnlm, x)\n",
    "    else:\n",
    "        hidden = hidden[:, :x.shape[0], :]\n",
    "        preds, hidden = predict_on_batch(rnnlm, x, hidden=hidden)\n",
    "        probs = torch.cat((probs, preds))"
   ]
  },
  {
   "cell_type": "code",
   "execution_count": 24,
   "metadata": {},
   "outputs": [
    {
     "name": "stdout",
     "output_type": "stream",
     "text": [
      "word:  пшеничной\n",
      "letter п : probability 0.03448275849223137\n",
      "letter ш : probability 1.1459667348390212e-07\n",
      "letter е : probability 1.1635414011834655e-05\n",
      "letter н : probability 1.4664968830402358e-06\n",
      "letter и : probability 5.683313020199421e-07\n",
      "letter ч : probability 0.19576825201511383\n",
      "letter н : probability 0.0001208367757499218\n",
      "letter о : probability 3.7104319616787507e-10\n",
      "letter й : probability 4.247155405145975e-11\n",
      "word:  переживаниями\n",
      "letter п : probability 0.03448275849223137\n",
      "letter е : probability 6.881132321723271e-06\n",
      "letter р : probability 0.027759699150919914\n",
      "letter е : probability 0.0003513515694066882\n",
      "letter ж : probability 0.00031770026544108987\n",
      "letter и : probability 1.9106200852547772e-06\n",
      "letter в : probability 1.0008609052647444e-08\n",
      "letter а : probability 1.3751672023332162e-09\n",
      "letter н : probability 1.9646162474629136e-09\n",
      "letter и : probability 5.974822215648601e-06\n",
      "letter я : probability 2.219669864578222e-10\n",
      "letter м : probability 0.015115627087652683\n",
      "letter и : probability 4.81222343751142e-07\n",
      "word:  наибольшим\n",
      "letter н : probability 0.03448275849223137\n",
      "letter а : probability 0.036479536443948746\n",
      "letter и : probability 0.0001996375503949821\n",
      "letter б : probability 0.0022900784388184547\n",
      "letter о : probability 0.03616270422935486\n",
      "letter л : probability 0.0029676570557057858\n",
      "letter ь : probability 0.0004624042776413262\n",
      "letter ш : probability 1.3749509889748879e-05\n",
      "letter и : probability 1.7859122181107523e-07\n",
      "letter м : probability 1.1694505606951733e-11\n",
      "word:  правителями\n",
      "letter п : probability 0.03448275849223137\n",
      "letter р : probability 0.06617370992898941\n",
      "letter а : probability 0.00048255216097459197\n",
      "letter в : probability 0.0001998144289245829\n",
      "letter и : probability 6.284629261443797e-09\n",
      "letter т : probability 4.487327203150926e-07\n",
      "letter е : probability 0.002786502242088318\n",
      "letter л : probability 0.0002084143488900736\n",
      "letter я : probability 8.716749144591172e-15\n",
      "letter м : probability 4.5813348595412685e-17\n",
      "letter и : probability 7.179302428994561e-06\n",
      "word:  апеллируешь\n",
      "letter а : probability 0.03448275849223137\n",
      "letter п : probability 0.0029825859237462282\n",
      "letter е : probability 6.593218859052286e-05\n",
      "letter л : probability 4.6986569941509515e-06\n",
      "letter л : probability 9.942416898459094e-13\n",
      "letter и : probability 5.201530649750303e-15\n",
      "letter р : probability 2.1615482841130795e-12\n",
      "letter у : probability 6.8585287449352e-10\n",
      "letter е : probability 4.935029937769286e-05\n",
      "letter ш : probability 0.00015239318599924445\n",
      "letter ь : probability 2.569742531423726e-15\n",
      "word:  односложных\n",
      "letter о : probability 0.03448275849223137\n",
      "letter д : probability 1.2009953934466466e-05\n",
      "letter н : probability 0.0032029058784246445\n",
      "letter о : probability 0.0010706059401854873\n",
      "letter с : probability 9.990268168280636e-09\n",
      "letter л : probability 0.18837431073188782\n",
      "letter о : probability 9.332151421403978e-06\n",
      "letter ж : probability 2.8015525663227514e-11\n",
      "letter н : probability 1.618929122704227e-11\n",
      "letter ы : probability 1.4238694316486e-13\n",
      "letter х : probability 5.416120529844193e-07\n",
      "word:  колодками\n",
      "letter к : probability 0.03448275849223137\n",
      "letter о : probability 0.0613865852355957\n",
      "letter л : probability 0.001459174556657672\n",
      "letter о : probability 6.413198570953682e-05\n",
      "letter д : probability 3.2651550907480953e-10\n",
      "letter к : probability 0.0014090660260990262\n",
      "letter а : probability 3.110088437097147e-05\n",
      "letter м : probability 1.1326094409014331e-06\n",
      "letter и : probability 4.262318362840967e-12\n",
      "word:  вибрирует\n",
      "letter в : probability 0.03448275849223137\n",
      "letter и : probability 0.02725883573293686\n",
      "letter б : probability 0.059379078447818756\n",
      "letter р : probability 0.0029721856117248535\n",
      "letter и : probability 0.0007546603446826339\n",
      "letter р : probability 0.00045712472638115287\n",
      "letter у : probability 2.621898147481261e-06\n",
      "letter е : probability 1.166328729595989e-06\n",
      "letter т : probability 1.7538959582452662e-05\n",
      "word:  безразлично\n",
      "letter б : probability 0.03448275849223137\n",
      "letter е : probability 0.04916664585471153\n",
      "letter з : probability 0.028233058750629425\n",
      "letter р : probability 5.459975000121631e-06\n",
      "letter а : probability 8.910287760954816e-06\n",
      "letter з : probability 3.565329734556144e-06\n",
      "letter л : probability 4.044698016514303e-07\n",
      "letter и : probability 1.598953349457588e-05\n",
      "letter ч : probability 8.838637460817367e-11\n",
      "letter н : probability 0.3437834084033966\n",
      "letter о : probability 0.0189127828925848\n",
      "word:  эпитрохоиду\n",
      "letter э : probability 0.03448275849223137\n",
      "letter п : probability 0.0029825859237462282\n",
      "letter и : probability 1.2342654372332618e-05\n",
      "letter т : probability 1.4048454066717397e-10\n",
      "letter р : probability 0.2492685317993164\n",
      "letter о : probability 2.5540566639392637e-07\n",
      "letter х : probability 1.434230598867936e-11\n",
      "letter о : probability 3.5831979605660536e-09\n",
      "letter и : probability 0.6094179153442383\n",
      "letter д : probability 1.30392419084302e-10\n",
      "letter у : probability 0.9549645185470581\n",
      "word:  общеобразовательного\n",
      "letter о : probability 0.03448275849223137\n",
      "letter б : probability 5.223943844612222e-06\n",
      "letter щ : probability 6.324801802293223e-07\n",
      "letter е : probability 0.015785066410899162\n",
      "letter о : probability 0.000507380987983197\n",
      "letter б : probability 1.1981048375631076e-09\n",
      "letter р : probability 9.88959300229908e-07\n",
      "letter а : probability 0.020195551216602325\n",
      "letter з : probability 0.000180534872924909\n",
      "letter о : probability 0.3081565201282501\n",
      "letter в : probability 0.9367899298667908\n",
      "letter а : probability 0.00014246405044104904\n",
      "letter т : probability 0.0012816480593755841\n",
      "letter е : probability 5.969703065211718e-10\n",
      "letter л : probability 8.937648817664012e-05\n",
      "letter ь : probability 2.8978250909972303e-08\n",
      "letter н : probability 0.0850127637386322\n",
      "letter о : probability 0.014995911158621311\n",
      "letter г : probability 0.0008054059580899775\n",
      "letter о : probability 0.0007341342279687524\n",
      "word:  фригидной\n",
      "letter ф : probability 0.03448275849223137\n",
      "letter р : probability 0.007484853733330965\n",
      "letter и : probability 0.002218527253717184\n",
      "letter г : probability 0.0008370197028852999\n",
      "letter и : probability 0.007715813349932432\n",
      "letter д : probability 0.001006938749924302\n",
      "letter н : probability 5.563852156775795e-10\n",
      "letter о : probability 2.9979855403761135e-11\n",
      "letter й : probability 2.7720383514252865e-15\n",
      "word:  безмолвный\n",
      "letter б : probability 0.03448275849223137\n",
      "letter е : probability 0.11302575469017029\n",
      "letter з : probability 0.04300331324338913\n",
      "letter м : probability 7.601242373311834e-07\n",
      "letter о : probability 6.070157496651518e-07\n",
      "letter л : probability 9.178593609249219e-05\n",
      "letter в : probability 0.3789360523223877\n",
      "letter н : probability 0.1430799514055252\n",
      "letter ы : probability 0.4706467390060425\n",
      "letter й : probability 0.06911124289035797\n",
      "word:  многолетним\n",
      "letter м : probability 0.03448275849223137\n",
      "letter н : probability 0.0010478445328772068\n",
      "letter о : probability 0.0017962692072615027\n",
      "letter г : probability 0.0005419063381850719\n",
      "letter о : probability 1.3061530808045063e-06\n",
      "letter л : probability 1.178587822892041e-07\n",
      "letter е : probability 0.0001513195165898651\n",
      "letter т : probability 2.25553299060266e-06\n",
      "letter н : probability 1.6088211318709966e-10\n",
      "letter и : probability 1.3196889761535324e-11\n",
      "letter м : probability 1.5468916038174508e-17\n",
      "word:  оттопырьте\n",
      "letter о : probability 0.03448275849223137\n",
      "letter т : probability 0.22477763891220093\n",
      "letter т : probability 0.00566448736935854\n",
      "letter о : probability 0.00012579829490277916\n",
      "letter п : probability 6.923316364648713e-10\n",
      "letter ы : probability 2.259488169481516e-13\n",
      "letter р : probability 1.1671159150239419e-08\n",
      "letter ь : probability 1.0901889166534031e-14\n",
      "letter т : probability 5.677161757193516e-13\n",
      "letter е : probability 1.3052235203758755e-07\n",
      "word:  долбануть\n",
      "letter д : probability 0.03448275849223137\n",
      "letter о : probability 0.05526149272918701\n",
      "letter л : probability 3.6013761928188615e-07\n",
      "letter б : probability 5.736287675972562e-06\n",
      "letter а : probability 6.5451328801202635e-09\n",
      "letter н : probability 0.0008091292111203074\n",
      "letter у : probability 9.186316707321396e-10\n",
      "letter т : probability 2.419092703931369e-10\n",
      "letter ь : probability 9.290239584569537e-12\n",
      "word:  синеватые\n",
      "letter с : probability 0.03448275849223137\n",
      "letter и : probability 4.51058367616497e-05\n",
      "letter н : probability 6.0402533563319594e-05\n",
      "letter е : probability 1.4063077813375457e-08\n",
      "letter в : probability 1.35118513600041e-10\n",
      "letter а : probability 0.17816151678562164\n",
      "letter т : probability 2.6567224864493255e-08\n",
      "letter ы : probability 4.907388717937354e-15\n",
      "letter е : probability 6.187733561091591e-06\n",
      "word:  колониальному\n",
      "letter к : probability 0.03448275849223137\n",
      "letter о : probability 0.00035999089595861733\n",
      "letter л : probability 0.00010143855615751818\n",
      "letter о : probability 0.0013525907415896654\n",
      "letter н : probability 0.00014082196867093444\n",
      "letter и : probability 0.0038583907298743725\n",
      "letter а : probability 6.802473308198387e-06\n",
      "letter л : probability 6.298698167483963e-07\n",
      "letter ь : probability 9.034472614466438e-10\n",
      "letter н : probability 1.5401150840754774e-11\n",
      "letter о : probability 2.0661714526803987e-12\n",
      "letter м : probability 3.151707688081785e-16\n",
      "letter у : probability 0.0015308173606172204\n",
      "word:  надавливало\n",
      "letter н : probability 0.03448275849223137\n",
      "letter а : probability 0.017228106036782265\n",
      "letter д : probability 0.016555968672037125\n",
      "letter а : probability 0.015106160193681717\n",
      "letter в : probability 0.027564167976379395\n",
      "letter л : probability 4.308493259941315e-07\n",
      "letter и : probability 8.223808254115283e-05\n",
      "letter в : probability 5.068822694909159e-09\n",
      "letter а : probability 5.039573758303106e-10\n",
      "letter л : probability 1.228101723427244e-06\n",
      "letter о : probability 5.851968909453831e-11\n",
      "word:  истерический\n",
      "letter и : probability 0.03448275849223137\n",
      "letter с : probability 0.13137441873550415\n",
      "letter т : probability 0.04791167750954628\n",
      "letter е : probability 0.0657496377825737\n",
      "letter р : probability 0.0015029504429548979\n",
      "letter и : probability 0.0514061264693737\n",
      "letter ч : probability 1.4426649208587605e-08\n",
      "letter е : probability 2.6673043114489037e-12\n",
      "letter с : probability 4.502703987441237e-09\n",
      "letter к : probability 0.10854180157184601\n",
      "letter и : probability 2.919110329457908e-06\n",
      "letter й : probability 5.057166491129195e-12\n"
     ]
    }
   ],
   "source": [
    "for i in range(-20, 0):\n",
    "    word = test_dataset.data[i]\n",
    "    print(\"word: \", word)\n",
    "    for j, letter in enumerate(word):\n",
    "        print('letter {} : probability {}'.format(letter, probs[i, j, vocab(letter)]))"
   ]
  },
  {
   "cell_type": "markdown",
   "metadata": {},
   "source": [
    "**2.8 (5 points)** Write a function that generates a single word (sequence of indexes) given the model. Do not forget about the hidden state! Be careful about start and end symbol indexes. Use ``torch.multinomial`` for sampling."
   ]
  },
  {
   "cell_type": "code",
   "execution_count": 25,
   "metadata": {},
   "outputs": [],
   "source": [
    "def generate(model, max_length=20, start_index=1, end_index=2, pad_index=0):\n",
    "    \"\"\"\n",
    "    == MY CODE HERE ==\n",
    "    \"\"\"\n",
    "    model.eval()\n",
    "    previous_letter = start_index\n",
    "    word = []\n",
    "    hidden=None\n",
    "    \n",
    "    for i in range(length):\n",
    "        ind = torch.tensor([previous_letter])[None, :]\n",
    "        prob, hidden = predict_on_batch(model, ind, hidden)\n",
    "        previous_letter = torch.multinomial(prob.squeeze(), 1)\n",
    "        if previous_letter in [start_index, end_index, pad_index]:\n",
    "            return ''.join(word)\n",
    "        previous_letter = previous_letter.cpu().numpy()[0]\n",
    "        word.append(vocab(previous_letter))\n",
    "    return ''.join(word)"
   ]
  },
  {
   "cell_type": "markdown",
   "metadata": {},
   "source": [
    "**2.9 (1 points)** Use ``generate`` to sample 20 pseudowords. Do not forget to transform indexes to letters."
   ]
  },
  {
   "cell_type": "code",
   "execution_count": 29,
   "metadata": {},
   "outputs": [
    {
     "name": "stdout",
     "output_type": "stream",
     "text": [
      "ищумтьммиуъмя\n",
      "от\n",
      "влфлй\n",
      "рюфйсзлыпь\n",
      "ккцы\n",
      "йъдда\n",
      "спияйзлм\n",
      "ъпучф\n",
      "энйш-оп\n",
      "в-\n",
      "аьижвгб\n",
      "еебыызхпыыджю\n",
      "ёеьж\n",
      "оывккъгорц-ч-ф\n",
      "лйкоыюсшгзщзж\n",
      "ф\n",
      "ь-мёчеэйхкпхш\n",
      "аынлтёэхъщас\n",
      "плсцкхецн\n",
      "\n"
     ]
    }
   ],
   "source": [
    "for i in range(20):\n",
    "    \"\"\"\n",
    "    == MY CODE HERE ==\n",
    "    \"\"\"\n",
    "    print(generate(rnnlm))"
   ]
  },
  {
   "cell_type": "markdown",
   "metadata": {},
   "source": [
    "**(2.10) 5 points** Write a batched version of the generation function. You should sample the following symbol only for the words that are not finished yet, so apply a boolean mask to trace active words."
   ]
  },
  {
   "cell_type": "code",
   "execution_count": 30,
   "metadata": {},
   "outputs": [],
   "source": [
    "def generate_batch(model, batch_size, max_length=20, start_index=1, end_index=2, pad_index=0):\n",
    "    \"\"\"\n",
    "    == MY CODE HERE ==\n",
    "    \"\"\"\n",
    "    state = torch.tensor([start_index for i in range(batch_size)]).reshape(batch_size, 1)\n",
    "    generated_words = []\n",
    "    generated = None\n",
    "    hidden = None\n",
    "    \n",
    "    for i in range(max_length):\n",
    "        probs, hidden = predict_on_batch(model, state, hidden)\n",
    "        state = torch.multinomial(probs.squeeze(), num_samples=1)\n",
    "        if i == 0:\n",
    "            generated = state[None, :]\n",
    "        else:\n",
    "            generated = torch.cat((generated, state[None, :]))\n",
    "    for i in range(batch_size):\n",
    "        tensor = generated[:, i, 0]\n",
    "        last_pos = max_length\n",
    "        for j in range(max_length):\n",
    "            if tensor[j] in [start_index, end_index, pad_index]:\n",
    "                last_pos = j\n",
    "                break\n",
    "        generated_words.append(''.join([vocab(val.item()) for val in tensor[:last_pos]]))\n",
    "    return generated_words"
   ]
  },
  {
   "cell_type": "code",
   "execution_count": 32,
   "metadata": {},
   "outputs": [
    {
     "data": {
      "text/plain": [
       "['стёбю',\n",
       " 'нц-ээфе',\n",
       " 'тьсть',\n",
       " 'калишьфечёмыьфекучаг',\n",
       " 'гн-пр',\n",
       " 'ть',\n",
       " '',\n",
       " 'озъ',\n",
       " 'э',\n",
       " 'ышеча',\n",
       " 'нямы',\n",
       " 'чаэвямы',\n",
       " 'ц-прутёщёмы-пьвьфеди',\n",
       " 'уть',\n",
       " 'ёгай',\n",
       " '-э',\n",
       " 'ходзы-кодяжджутимых-',\n",
       " 'бю',\n",
       " 'няшь',\n",
       " '-пёбекутишапцизый']"
      ]
     },
     "execution_count": 32,
     "metadata": {},
     "output_type": "execute_result"
    }
   ],
   "source": [
    "generate_batch(rnnlm, 20)"
   ]
  },
  {
   "cell_type": "markdown",
   "metadata": {},
   "source": [
    "**(2.11) 5 points** Experiment with the type of RNN, number of layers, units and/or dropout to improve the perplexity of the model."
   ]
  },
  {
   "cell_type": "code",
   "execution_count": 33,
   "metadata": {},
   "outputs": [],
   "source": [
    "class RNNLM(nn.Module):\n",
    "\n",
    "    def __init__(self, vocab_size, embeddings_dim, hidden_size, batch_size, device):\n",
    "        super(RNNLM, self).__init__()\n",
    "        \"\"\"\n",
    "        == MY CODE HERE ==\n",
    "        \"\"\"\n",
    "        self.vocab_size = vocab_size\n",
    "        self.embeddings_dim = embeddings_dim\n",
    "        self.hidden_size = hidden_size\n",
    "        self.batch_size = batch_size\n",
    "        self.device = device\n",
    "        self.embedding = nn.Embedding(num_embeddings=self.vocab_size, embedding_dim=self.embeddings_dim)\n",
    "        self.lstm = nn.LSTM(input_size=self.embeddings_dim, hidden_size=self.hidden_size, dropout=0.5, batch_first=True)\n",
    "        self.linear = nn.Linear(in_features=self.hidden_size, out_features=self.vocab_size)\n",
    "        self.softmax = nn.LogSoftmax(dim=2)\n",
    "        \n",
    "    def forward(self, inputs, hidden=None):\n",
    "        \"\"\"\n",
    "        == MY CODE HERE ==\n",
    "        \"\"\"\n",
    "        if hidden is None:\n",
    "            hidden = self.init_hidden(inputs.shape)\n",
    "        outputs = self.embedding(inputs)\n",
    "        outputs, hidden = self.lstm(outputs)\n",
    "        outputs = self.linear(outputs)\n",
    "        outputs = self.softmax(outputs)\n",
    "        return outputs, hidden\n",
    "\n",
    "    def init_hidden(self, inputs_shape):\n",
    "        return torch.zeros(1, inputs_shape[0], self.embeddings_dim, device = self.device)"
   ]
  },
  {
   "cell_type": "code",
   "execution_count": 37,
   "metadata": {},
   "outputs": [
    {
     "name": "stderr",
     "output_type": "stream",
     "text": [
      "/home/tanos/.conda/envs/OCR/lib/python3.7/site-packages/torch/nn/modules/rnn.py:54: UserWarning: dropout option adds dropout after all but last recurrent layer, so non-zero dropout expects num_layers greater than 1, but got dropout=0.5 and num_layers=1\n",
      "  \"num_layers={}\".format(dropout, num_layers))\n"
     ]
    },
    {
     "data": {
      "text/plain": [
       "RNNLM(\n",
       "  (embedding): Embedding(37, 37)\n",
       "  (lstm): LSTM(37, 200, batch_first=True, dropout=0.5)\n",
       "  (linear): Linear(in_features=200, out_features=37, bias=True)\n",
       "  (softmax): LogSoftmax()\n",
       ")"
      ]
     },
     "execution_count": 37,
     "metadata": {},
     "output_type": "execute_result"
    }
   ],
   "source": [
    "batch_size = 32\n",
    "learning_rate = 0.00001\n",
    "num_epochs = 500\n",
    "train_loss = []\n",
    "val_loss = []\n",
    "\n",
    "rnnlm = RNNLM(vocab_size=len(vocab), embeddings_dim=len(vocab), hidden_size=200, batch_size=batch_size, device=device)\n",
    "rnnlm.to(device)\n",
    "\n",
    "weights = torch.ones((len(vocab),)).to(device)\n",
    "weights[pad_symb]  = 0\n",
    "criterion = nn.NLLLoss(weight=weights, reduction='mean')\n",
    "optimizer = torch.optim.Adam(rnnlm.parameters(), lr=learning_rate)\n",
    "rnnlm.to(device)"
   ]
  },
  {
   "cell_type": "code",
   "execution_count": 38,
   "metadata": {},
   "outputs": [
    {
     "name": "stdout",
     "output_type": "stream",
     "text": [
      "Epoch 0: train_loss = 3.5853831006420984, val_loss = 3.5625903606414795\n",
      "Epoch 100: train_loss = 2.3121247266729674, val_loss = 2.3471498489379883\n",
      "Epoch 200: train_loss = 2.1600408164991274, val_loss = 2.1885852813720703\n",
      "Epoch 300: train_loss = 2.07509578888615, val_loss = 2.124354362487793\n",
      "Epoch 400: train_loss = 2.013995980636941, val_loss = 2.0901968479156494\n"
     ]
    }
   ],
   "source": [
    "for epoch in range(num_epochs):\n",
    "    iterations_train = 0\n",
    "    train_loss_iter = 0\n",
    "    val_loss_iter = 0\n",
    "    for ind, (x, y) in enumerate(train_loader):\n",
    "        train_loss_iter += train_on_batch(rnnlm, criterion, x, y, optimizer)\n",
    "        iterations_train += 1\n",
    "        torch.cuda.empty_cache()\n",
    "    for ind, (x, y) in enumerate(dev_loader):\n",
    "        rnnlm.eval()\n",
    "        val_loss_iter = validate_on_batch(rnnlm, criterion, x, y)\n",
    "        torch.cuda.empty_cache()\n",
    "    train_loss.append(train_loss_iter / iterations_train)\n",
    "    val_loss.append(val_loss_iter)\n",
    "    if epoch%100 == 0:\n",
    "        print(\"Epoch {}: train_loss = {}, val_loss = {}\".format(epoch, train_loss[-1], val_loss[-1]))"
   ]
  },
  {
   "cell_type": "code",
   "execution_count": 39,
   "metadata": {},
   "outputs": [
    {
     "data": {
      "image/png": "[encoded data removed]",
      "text/plain": [
       "<Figure size 432x288 with 1 Axes>"
      ]
     },
     "metadata": {
      "needs_background": "light"
     },
     "output_type": "display_data"
    }
   ],
   "source": [
    "fig, ax = plt.subplots()\n",
    "ax.plot(np.arange(1,len(train_loss)+1), train_loss, label='train', color='black')\n",
    "ax.plot(np.arange(1,len(val_loss)+1), val_loss, label='val', color='red')\n",
    "\n",
    "ax.set(ylabel='loss', xlabel='epoch')\n",
    "ax.grid()\n",
    "plt.legend()\n",
    "plt.show()"
   ]
  },
  {
   "cell_type": "code",
   "execution_count": 46,
   "metadata": {},
   "outputs": [
    {
     "data": {
      "text/plain": [
       "['бойхцыцб',\n",
       " 'скахжбй-глцишэшю',\n",
       " 'эказждтязн',\n",
       " 'ъмтеслюлясб',\n",
       " 'бхпимпжнфигфещчёгрют',\n",
       " 'ъвю',\n",
       " 'ёмддимю',\n",
       " 'эы',\n",
       " 'ъпопуйувдвёмышь',\n",
       " 'шёцвыцлмуамнобляйши',\n",
       " 'ю',\n",
       " 'ю',\n",
       " 'цтэ-жуб',\n",
       " 'хюьшерузубчюшсёмныйс',\n",
       " 'йтъёбюди-чъжи',\n",
       " 'яцыфшьб-кучля-чкна-м',\n",
       " 'езрютяэщнепр',\n",
       " 'могуся',\n",
       " 'аъшфуёнаэжеяжчпизвьщ',\n",
       " 'ъшткбуццыпуштбогюндф']"
      ]
     },
     "execution_count": 46,
     "metadata": {},
     "output_type": "execute_result"
    }
   ],
   "source": [
    "generate_batch(rnnlm, 20)"
   ]
  }
 ],
 "metadata": {
  "kernelspec": {
   "display_name": "Python 3",
   "language": "python",
   "name": "python3"
  },
  "language_info": {
   "codemirror_mode": {
    "name": "ipython",
    "version": 3
   },
   "file_extension": ".py",
   "mimetype": "text/x-python",
   "name": "python",
   "nbconvert_exporter": "python",
   "pygments_lexer": "ipython3",
   "version": "3.7.6"
  }
 },
 "nbformat": 4,
 "nbformat_minor": 4
}
