{
 "cells": [
  {
   "cell_type": "markdown",
   "metadata": {},
   "source": [
    "## Assignment 2.4: Text classification via CNN (20 points)"
   ]
  },
  {
   "cell_type": "markdown",
   "metadata": {},
   "source": [
    "In this assignment you should perform sentiment analysis of the IMDB reviews based on CNN architecture. Read carefully [Convolutional Neural Networks for Sentence Classification](https://arxiv.org/pdf/1408.5882.pdf) by Yoon Kim."
   ]
  },
  {
   "cell_type": "code",
   "execution_count": 1,
   "metadata": {},
   "outputs": [],
   "source": [
    "import numpy as np\n",
    "import torch\n",
    "\n",
    "import torch.nn as nn\n",
    "import torch.nn.functional as F\n",
    "import torch.optim as optim\n",
    "\n",
    "from torchtext import datasets\n",
    "from torchtext.data import Field, LabelField\n",
    "from torchtext.data import Iterator"
   ]
  },
  {
   "cell_type": "markdown",
   "metadata": {},
   "source": [
    "### Preparing Data"
   ]
  },
  {
   "cell_type": "code",
   "execution_count": 2,
   "metadata": {},
   "outputs": [],
   "source": [
    "TEXT = Field(sequential=True, lower=True, batch_first=True)\n",
    "LABEL = LabelField(batch_first=True)"
   ]
  },
  {
   "cell_type": "code",
   "execution_count": 3,
   "metadata": {},
   "outputs": [],
   "source": [
    "train, tst = datasets.IMDB.splits(TEXT, LABEL)\n",
    "trn, vld = train.split()"
   ]
  },
  {
   "cell_type": "code",
   "execution_count": 4,
   "metadata": {},
   "outputs": [],
   "source": [
    "# %%time\n",
    "TEXT.build_vocab(trn)"
   ]
  },
  {
   "cell_type": "code",
   "execution_count": 5,
   "metadata": {},
   "outputs": [],
   "source": [
    "LABEL.build_vocab(trn)"
   ]
  },
  {
   "cell_type": "markdown",
   "metadata": {},
   "source": [
    "### Creating the Iterator (2 points)"
   ]
  },
  {
   "cell_type": "markdown",
   "metadata": {},
   "source": [
    "Define an iterator here"
   ]
  },
  {
   "cell_type": "code",
   "execution_count": 6,
   "metadata": {},
   "outputs": [
    {
     "name": "stdout",
     "output_type": "stream",
     "text": [
      "device:  cuda\n"
     ]
    }
   ],
   "source": [
    "if torch.cuda.is_available():\n",
    "    device = 'cuda'\n",
    "    torch.cuda.set_device(2)\n",
    "else:\n",
    "    device = 'cpu'\n",
    "\n",
    "\n",
    "print(\"device: \", device)"
   ]
  },
  {
   "cell_type": "code",
   "execution_count": 7,
   "metadata": {},
   "outputs": [],
   "source": [
    "train_iter, val_iter, test_iter = Iterator.splits((trn, vld, tst), \n",
    "                                                  batch_size = 64, \n",
    "                                                  device = device)"
   ]
  },
  {
   "cell_type": "markdown",
   "metadata": {},
   "source": [
    "### Define CNN-based text classification model (8 points)"
   ]
  },
  {
   "cell_type": "code",
   "execution_count": 8,
   "metadata": {},
   "outputs": [],
   "source": [
    "class CNN(nn.Module):\n",
    "    def __init__(self, V, D, kernel_sizes, dropout=0.5):\n",
    "        super(CNN, self).__init__()\n",
    "        self.n_filters = 100\n",
    "        self.embedding = nn.Embedding(V, D)\n",
    "\n",
    "        self.convs = nn.ModuleList([nn.Conv2d(in_channels = 1, \n",
    "                                              out_channels = self.n_filters, \n",
    "                                              kernel_size = (k, D)) \n",
    "                                    for k in kernel_sizes])\n",
    "        \n",
    "        self.linear = nn.Linear(len(kernel_sizes) * self.n_filters, 1)\n",
    "        self.dropout = nn.Dropout(dropout)\n",
    "        self.act = nn.Sigmoid()\n",
    "        \n",
    "    def forward(self, x):\n",
    "        emb = self.embedding(x).unsqueeze(1)\n",
    "        cnv = [F.relu(conv(emb)).squeeze(3) for conv in self.convs]  \n",
    "        pool = [F.max_pool1d(conv, conv.shape[2]).squeeze(2) for conv in cnv]\n",
    "        cat = self.dropout(torch.cat(pool, dim = 1))\n",
    "        outputs = self.linear(cat)\n",
    "        logit = self.act(outputs)\n",
    "        return logit"
   ]
  },
  {
   "cell_type": "code",
   "execution_count": 9,
   "metadata": {},
   "outputs": [],
   "source": [
    "kernel_sizes = [3,4,5]\n",
    "vocab_size = len(TEXT.vocab)\n",
    "dropout = 0.5\n",
    "dim = 300\n",
    "\n",
    "model = CNN(vocab_size, dim, kernel_sizes, dropout)"
   ]
  },
  {
   "cell_type": "code",
   "execution_count": 10,
   "metadata": {},
   "outputs": [
    {
     "data": {
      "text/plain": [
       "CNN(\n",
       "  (embedding): Embedding(202250, 300)\n",
       "  (convs): ModuleList(\n",
       "    (0): Conv2d(1, 100, kernel_size=(3, 300), stride=(1, 1))\n",
       "    (1): Conv2d(1, 100, kernel_size=(4, 300), stride=(1, 1))\n",
       "    (2): Conv2d(1, 100, kernel_size=(5, 300), stride=(1, 1))\n",
       "  )\n",
       "  (linear): Linear(in_features=300, out_features=1, bias=True)\n",
       "  (dropout): Dropout(p=0.5)\n",
       "  (act): Sigmoid()\n",
       ")"
      ]
     },
     "execution_count": 10,
     "metadata": {},
     "output_type": "execute_result"
    }
   ],
   "source": [
    "model.cuda()"
   ]
  },
  {
   "cell_type": "markdown",
   "metadata": {},
   "source": [
    "### The training loop (3 points)"
   ]
  },
  {
   "cell_type": "markdown",
   "metadata": {},
   "source": [
    "Define the optimization function and the loss functions."
   ]
  },
  {
   "cell_type": "code",
   "execution_count": 11,
   "metadata": {},
   "outputs": [],
   "source": [
    "opt = optim.Adam(model.parameters())\n",
    "loss_func = nn.BCEWithLogitsLoss()"
   ]
  },
  {
   "cell_type": "markdown",
   "metadata": {},
   "source": [
    "Think carefully about the stopping criteria. "
   ]
  },
  {
   "cell_type": "code",
   "execution_count": 12,
   "metadata": {},
   "outputs": [],
   "source": [
    "epochs = 15"
   ]
  },
  {
   "cell_type": "code",
   "execution_count": 13,
   "metadata": {},
   "outputs": [
    {
     "name": "stdout",
     "output_type": "stream",
     "text": [
      "Epoch: 1, Training Loss: 0.010685754438808986, Validation Loss: 0.009884297116597494\n",
      "Epoch: 2, Training Loss: 0.009922284913063049, Validation Loss: 0.00964530390103658\n",
      "Epoch: 3, Training Loss: 0.009657589020047869, Validation Loss: 0.009518324406941732\n",
      "Epoch: 4, Training Loss: 0.009418815977232797, Validation Loss: 0.009379640690485636\n",
      "Epoch: 5, Training Loss: 0.009241371279103416, Validation Loss: 0.009336049095789592\n",
      "Epoch: 6, Training Loss: 0.009109584728309087, Validation Loss: 0.009204308764139812\n",
      "Epoch: 7, Training Loss: 0.008991304503168379, Validation Loss: 0.009094850095113119\n",
      "Epoch: 8, Training Loss: 0.008819631966522763, Validation Loss: 0.009011515665054322\n",
      "Epoch: 9, Training Loss: 0.008744627933842796, Validation Loss: 0.009007434225082397\n",
      "Epoch: 10, Training Loss: 0.00865777643578393, Validation Loss: 0.008981348419189452\n",
      "Epoch: 11, Training Loss: 0.008561036724703652, Validation Loss: 0.009032762837409973\n",
      "Epoch: 12, Training Loss: 0.008492571476527622, Validation Loss: 0.008930318888028463\n",
      "Epoch: 13, Training Loss: 0.008434031118665423, Validation Loss: 0.00890953024228414\n",
      "Epoch: 14, Training Loss: 0.008362858360154287, Validation Loss: 0.008914427979787191\n",
      "Epoch: 15, Training Loss: 0.008311874684265681, Validation Loss: 0.00893928546110789\n",
      "CPU times: user 3min 22s, sys: 1min 18s, total: 4min 40s\n",
      "Wall time: 5min 10s\n"
     ]
    }
   ],
   "source": [
    "%%time\n",
    "for epoch in range(1, epochs + 1):\n",
    "    running_loss = 0.0\n",
    "    running_corrects = 0\n",
    "    model.train() \n",
    "    for batch in train_iter:         \n",
    "        \n",
    "        x = batch.text\n",
    "        y = batch.label\n",
    "        \n",
    "        opt.zero_grad()\n",
    "        preds = model(x).squeeze()\n",
    "        loss = loss_func(preds, y.float())\n",
    "        loss.backward()\n",
    "        opt.step()\n",
    "        running_loss += loss.item()\n",
    "        \n",
    "    epoch_loss = running_loss / len(trn)\n",
    "    \n",
    "    val_loss = 0.0\n",
    "    model.eval()\n",
    "    correct = 0\n",
    "    total = 0 \n",
    "    for batch in val_iter:\n",
    "        \n",
    "        x = batch.text\n",
    "        y = batch.label\n",
    "        \n",
    "        preds = model(x).squeeze()\n",
    "        loss = loss_func(preds, y.float())\n",
    "        val_loss += loss.item()\n",
    "        \n",
    "    val_loss /= len(vld)\n",
    "    \n",
    "    print('Epoch: {}, Training Loss: {}, Validation Loss: {}'.format(epoch, epoch_loss, val_loss))"
   ]
  },
  {
   "cell_type": "markdown",
   "metadata": {},
   "source": [
    "### Calculate performance of the trained model (2 points)"
   ]
  },
  {
   "cell_type": "code",
   "execution_count": 14,
   "metadata": {},
   "outputs": [],
   "source": [
    "tp = 0\n",
    "fp = 0\n",
    "fn = 0\n",
    "tn = 0\n",
    "for batch in test_iter:\n",
    "    x = batch.text\n",
    "    y = batch.label\n",
    "    predictions = model(x).squeeze()\n",
    "    rounded_preds = torch.round(predictions)\n",
    "    confusion_vector = rounded_preds / y.float()\n",
    "    \n",
    "    \n",
    "    \n",
    "    tp += torch.sum(confusion_vector == 1).item()\n",
    "    fp += torch.sum(confusion_vector == float('inf')).item()\n",
    "    tn += torch.sum(torch.isnan(confusion_vector)).item()\n",
    "    fn += torch.sum(confusion_vector == 0).item()"
   ]
  },
  {
   "cell_type": "code",
   "execution_count": 15,
   "metadata": {},
   "outputs": [
    {
     "name": "stdout",
     "output_type": "stream",
     "text": [
      "accuracy:  0.86496\n",
      "precision:  0.8709546267685803\n",
      "recall:  0.85688\n",
      "f1:  0.8638599887087669\n"
     ]
    }
   ],
   "source": [
    "accuracy = (tp+tn)/(tp+tn+fn+fp)\n",
    "print(\"accuracy: \", accuracy)\n",
    "precision = tp/(tp+fp)\n",
    "print(\"precision: \", precision)\n",
    "recall = tp/(tp+fn)\n",
    "print(\"recall: \", recall)\n",
    "f1 = 2*precision*recall/(precision+recall)\n",
    "print(\"f1: \", f1)"
   ]
  },
  {
   "cell_type": "markdown",
   "metadata": {},
   "source": [
    "Write down the calculated performance\n",
    "\n",
    "### Accuracy: 0.8650\n",
    "### Precision: 0.8710\n",
    "### Recall: 0.8569\n",
    "### F1: 0.8639"
   ]
  },
  {
   "cell_type": "markdown",
   "metadata": {},
   "source": [
    "### Experiments (5 points)\n",
    "\n",
    "Experiment with the model and achieve better results. Implement and describe your experiments in details, mention what was helpful."
   ]
  },
  {
   "cell_type": "markdown",
   "metadata": {},
   "source": [
    "## 1. \n",
    "### dropout = 0.5, change Adam optimizer to SGD momentum"
   ]
  },
  {
   "cell_type": "code",
   "execution_count": 71,
   "metadata": {},
   "outputs": [],
   "source": [
    "class CNN(nn.Module):\n",
    "    def __init__(self, V, D, kernel_sizes, dropout=0.3):\n",
    "        super(CNN, self).__init__()\n",
    "        self.n_filters = 100\n",
    "        self.embedding = nn.Embedding(V, D)\n",
    "\n",
    "        self.convs = nn.ModuleList([nn.Conv2d(in_channels = 1, \n",
    "                                              out_channels = self.n_filters, \n",
    "                                              kernel_size = (k, D)) \n",
    "                                    for k in kernel_sizes])\n",
    "        \n",
    "        self.linear = nn.Linear(len(kernel_sizes) * self.n_filters, 1)\n",
    "        self.dropout = nn.Dropout(dropout)\n",
    "        self.act = nn.Sigmoid()\n",
    "        \n",
    "    def forward(self, x):\n",
    "        emb = self.embedding(x).unsqueeze(1)\n",
    "        cnv = [F.relu(conv(emb)).squeeze(3) for conv in self.convs]  \n",
    "        pool = [F.max_pool1d(conv, conv.shape[2]).squeeze(2) for conv in cnv]\n",
    "        cat = self.dropout(torch.cat(pool, dim = 1))\n",
    "        outputs = self.linear(cat)\n",
    "        logit = self.act(outputs)\n",
    "        return logit"
   ]
  },
  {
   "cell_type": "code",
   "execution_count": 27,
   "metadata": {},
   "outputs": [],
   "source": [
    "kernel_sizes = [3,4,5]\n",
    "vocab_size = len(TEXT.vocab)\n",
    "dropout = 0.5\n",
    "dim = 300\n",
    "epochs = 10\n",
    "\n",
    "model = CNN(vocab_size, dim, kernel_sizes, dropout)"
   ]
  },
  {
   "cell_type": "code",
   "execution_count": 28,
   "metadata": {},
   "outputs": [
    {
     "data": {
      "text/plain": [
       "CNN(\n",
       "  (embedding): Embedding(201784, 300)\n",
       "  (convs): ModuleList(\n",
       "    (0): Conv2d(1, 100, kernel_size=(3, 300), stride=(1, 1))\n",
       "    (1): Conv2d(1, 100, kernel_size=(4, 300), stride=(1, 1))\n",
       "    (2): Conv2d(1, 100, kernel_size=(5, 300), stride=(1, 1))\n",
       "  )\n",
       "  (linear): Linear(in_features=300, out_features=1, bias=True)\n",
       "  (dropout): Dropout(p=0.5)\n",
       "  (act): Sigmoid()\n",
       ")"
      ]
     },
     "execution_count": 28,
     "metadata": {},
     "output_type": "execute_result"
    }
   ],
   "source": [
    "model.cuda()"
   ]
  },
  {
   "cell_type": "code",
   "execution_count": 29,
   "metadata": {},
   "outputs": [],
   "source": [
    "opt = opt = optim.SGD(model.parameters(), lr=0.01, momentum=0.9)\n",
    "loss_func = nn.BCEWithLogitsLoss()"
   ]
  },
  {
   "cell_type": "code",
   "execution_count": 30,
   "metadata": {},
   "outputs": [
    {
     "name": "stdout",
     "output_type": "stream",
     "text": [
      "Epoch: 1, Training Loss: 0.010855203005245754, Validation Loss: 0.010905149841308593\n",
      "Epoch: 2, Training Loss: 0.010852082306998117, Validation Loss: 0.01090480485757192\n",
      "Epoch: 3, Training Loss: 0.010850114720208304, Validation Loss: 0.01090240683555603\n",
      "Epoch: 4, Training Loss: 0.010846595283917019, Validation Loss: 0.01088865509033203\n",
      "Epoch: 5, Training Loss: 0.010823195392744882, Validation Loss: 0.010823581592241923\n",
      "Epoch: 6, Training Loss: 0.010669763101850237, Validation Loss: 0.010673945093154908\n",
      "Epoch: 7, Training Loss: 0.010468876664979117, Validation Loss: 0.01014719382127126\n",
      "Epoch: 8, Training Loss: 0.010272592316355024, Validation Loss: 0.009920679012934367\n",
      "Epoch: 9, Training Loss: 0.01008944388798305, Validation Loss: 0.009886492236455281\n",
      "Epoch: 10, Training Loss: 0.009969590612820217, Validation Loss: 0.009703847845395406\n",
      "CPU times: user 2min 17s, sys: 50.7 s, total: 3min 8s\n",
      "Wall time: 3min 7s\n"
     ]
    }
   ],
   "source": [
    "%%time\n",
    "for epoch in range(1, epochs + 1):\n",
    "    running_loss = 0.0\n",
    "    running_corrects = 0\n",
    "    model.train() \n",
    "    for batch in train_iter:         \n",
    "        \n",
    "        x = batch.text\n",
    "        y = batch.label\n",
    "        \n",
    "        opt.zero_grad()\n",
    "        preds = model(x).squeeze()\n",
    "        loss = loss_func(preds, y.float())\n",
    "        loss.backward()\n",
    "        opt.step()\n",
    "        running_loss += loss.item()\n",
    "        \n",
    "    epoch_loss = running_loss / len(trn)\n",
    "    \n",
    "    val_loss = 0.0\n",
    "    model.eval()\n",
    "    correct = 0\n",
    "    total = 0 \n",
    "    for batch in val_iter:\n",
    "        \n",
    "        x = batch.text\n",
    "        y = batch.label\n",
    "        \n",
    "        preds = model(x).squeeze()\n",
    "        loss = loss_func(preds, y.float())\n",
    "        val_loss += loss.item()\n",
    "        \n",
    "    val_loss /= len(vld)\n",
    "    \n",
    "    print('Epoch: {}, Training Loss: {}, Validation Loss: {}'.format(epoch, epoch_loss, val_loss))"
   ]
  },
  {
   "cell_type": "markdown",
   "metadata": {},
   "source": [
    "### It works worse than previos model."
   ]
  },
  {
   "cell_type": "markdown",
   "metadata": {},
   "source": [
    "## I have tried to change some other params but the result was terrible."
   ]
  },
  {
   "cell_type": "code",
   "execution_count": null,
   "metadata": {},
   "outputs": [],
   "source": []
  }
 ],
 "metadata": {
  "kernelspec": {
   "display_name": "Python 3",
   "language": "python",
   "name": "python3"
  },
  "language_info": {
   "codemirror_mode": {
    "name": "ipython",
    "version": 3
   },
   "file_extension": ".py",
   "mimetype": "text/x-python",
   "name": "python",
   "nbconvert_exporter": "python",
   "pygments_lexer": "ipython3",
   "version": "3.7.6"
  }
 },
 "nbformat": 4,
 "nbformat_minor": 4
}
